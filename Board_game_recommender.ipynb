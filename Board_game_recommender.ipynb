{
 "cells": [
  {
   "cell_type": "markdown",
   "metadata": {},
   "source": [
    "1. setup"
   ]
  },
  {
   "cell_type": "markdown",
   "metadata": {},
   "source": [
    "Importera in bibliotek\n",
    "Sätt k-värde \n",
    "Sät top_n-värde"
   ]
  },
  {
   "cell_type": "code",
   "execution_count": 233,
   "metadata": {},
   "outputs": [],
   "source": [
    "import pandas as pd\n",
    "import numpy as np\n",
    "from sklearn.model_selection import train_test_split\n",
    "from sklearn.metrics.pairwise import cosine_similarity\n",
    "from sklearn.neighbors import NearestNeighbors\n",
    "from sklearn.metrics import mean_absolute_error\n",
    "from scipy.sparse import csr_matrix\n",
    "import matplotlib.pyplot as plt"
   ]
  },
  {
   "cell_type": "markdown",
   "metadata": {},
   "source": [
    "Nedan lägger vi till csv-filerna med Användares betyg och spelen \n",
    "...."
   ]
  },
  {
   "cell_type": "code",
   "execution_count": 236,
   "metadata": {},
   "outputs": [],
   "source": [
    "df_ratings = pd.read_csv(\"dataset/user_ratings.csv\")\n",
    "df_games = pd.read_csv(\"dataset/games.csv\")\n",
    "df = pd.merge(df_ratings, df_games[['BGGId', 'Name']], \n",
    "              on='BGGId', how='left')"
   ]
  },
  {
   "cell_type": "code",
   "execution_count": 237,
   "metadata": {},
   "outputs": [
    {
     "data": {
      "text/html": [
       "<div>\n",
       "<style scoped>\n",
       "    .dataframe tbody tr th:only-of-type {\n",
       "        vertical-align: middle;\n",
       "    }\n",
       "\n",
       "    .dataframe tbody tr th {\n",
       "        vertical-align: top;\n",
       "    }\n",
       "\n",
       "    .dataframe thead th {\n",
       "        text-align: right;\n",
       "    }\n",
       "</style>\n",
       "<table border=\"1\" class=\"dataframe\">\n",
       "  <thead>\n",
       "    <tr style=\"text-align: right;\">\n",
       "      <th></th>\n",
       "      <th>BGGId</th>\n",
       "      <th>Rating</th>\n",
       "      <th>Username</th>\n",
       "      <th>Name</th>\n",
       "    </tr>\n",
       "  </thead>\n",
       "  <tbody>\n",
       "    <tr>\n",
       "      <th>0</th>\n",
       "      <td>213788</td>\n",
       "      <td>8.0</td>\n",
       "      <td>Tonydorrf</td>\n",
       "      <td>Ascension: Year Three Collector's Edition</td>\n",
       "    </tr>\n",
       "    <tr>\n",
       "      <th>1</th>\n",
       "      <td>213788</td>\n",
       "      <td>8.0</td>\n",
       "      <td>tachyon14k</td>\n",
       "      <td>Ascension: Year Three Collector's Edition</td>\n",
       "    </tr>\n",
       "    <tr>\n",
       "      <th>2</th>\n",
       "      <td>213788</td>\n",
       "      <td>8.0</td>\n",
       "      <td>Ungotter</td>\n",
       "      <td>Ascension: Year Three Collector's Edition</td>\n",
       "    </tr>\n",
       "    <tr>\n",
       "      <th>3</th>\n",
       "      <td>213788</td>\n",
       "      <td>8.0</td>\n",
       "      <td>brainlocki3</td>\n",
       "      <td>Ascension: Year Three Collector's Edition</td>\n",
       "    </tr>\n",
       "    <tr>\n",
       "      <th>4</th>\n",
       "      <td>213788</td>\n",
       "      <td>8.0</td>\n",
       "      <td>PPMP</td>\n",
       "      <td>Ascension: Year Three Collector's Edition</td>\n",
       "    </tr>\n",
       "    <tr>\n",
       "      <th>...</th>\n",
       "      <td>...</td>\n",
       "      <td>...</td>\n",
       "      <td>...</td>\n",
       "      <td>...</td>\n",
       "    </tr>\n",
       "    <tr>\n",
       "      <th>18942210</th>\n",
       "      <td>165521</td>\n",
       "      <td>3.0</td>\n",
       "      <td>rseater</td>\n",
       "      <td>Rory's Story Cubes: Medic</td>\n",
       "    </tr>\n",
       "    <tr>\n",
       "      <th>18942211</th>\n",
       "      <td>165521</td>\n",
       "      <td>3.0</td>\n",
       "      <td>Bluefox86</td>\n",
       "      <td>Rory's Story Cubes: Medic</td>\n",
       "    </tr>\n",
       "    <tr>\n",
       "      <th>18942212</th>\n",
       "      <td>165521</td>\n",
       "      <td>3.0</td>\n",
       "      <td>serginator</td>\n",
       "      <td>Rory's Story Cubes: Medic</td>\n",
       "    </tr>\n",
       "    <tr>\n",
       "      <th>18942213</th>\n",
       "      <td>193488</td>\n",
       "      <td>1.0</td>\n",
       "      <td>CaptainCattan</td>\n",
       "      <td>Airlines</td>\n",
       "    </tr>\n",
       "    <tr>\n",
       "      <th>18942214</th>\n",
       "      <td>193488</td>\n",
       "      <td>1.0</td>\n",
       "      <td>trodat123</td>\n",
       "      <td>Airlines</td>\n",
       "    </tr>\n",
       "  </tbody>\n",
       "</table>\n",
       "<p>18942215 rows × 4 columns</p>\n",
       "</div>"
      ],
      "text/plain": [
       "           BGGId  Rating       Username  \\\n",
       "0         213788     8.0      Tonydorrf   \n",
       "1         213788     8.0     tachyon14k   \n",
       "2         213788     8.0       Ungotter   \n",
       "3         213788     8.0    brainlocki3   \n",
       "4         213788     8.0           PPMP   \n",
       "...          ...     ...            ...   \n",
       "18942210  165521     3.0        rseater   \n",
       "18942211  165521     3.0      Bluefox86   \n",
       "18942212  165521     3.0     serginator   \n",
       "18942213  193488     1.0  CaptainCattan   \n",
       "18942214  193488     1.0      trodat123   \n",
       "\n",
       "                                               Name  \n",
       "0         Ascension: Year Three Collector's Edition  \n",
       "1         Ascension: Year Three Collector's Edition  \n",
       "2         Ascension: Year Three Collector's Edition  \n",
       "3         Ascension: Year Three Collector's Edition  \n",
       "4         Ascension: Year Three Collector's Edition  \n",
       "...                                             ...  \n",
       "18942210                  Rory's Story Cubes: Medic  \n",
       "18942211                  Rory's Story Cubes: Medic  \n",
       "18942212                  Rory's Story Cubes: Medic  \n",
       "18942213                                   Airlines  \n",
       "18942214                                   Airlines  \n",
       "\n",
       "[18942215 rows x 4 columns]"
      ]
     },
     "execution_count": 237,
     "metadata": {},
     "output_type": "execute_result"
    }
   ],
   "source": [
    "df"
   ]
  },
  {
   "cell_type": "markdown",
   "metadata": {},
   "source": [
    "2 Preprocessing"
   ]
  },
  {
   "cell_type": "markdown",
   "metadata": {},
   "source": [
    "Handle missing valuee"
   ]
  },
  {
   "cell_type": "code",
   "execution_count": 238,
   "metadata": {},
   "outputs": [
    {
     "name": "stdout",
     "output_type": "stream",
     "text": [
      "BGGId        0\n",
      "Rating       0\n",
      "Username    63\n",
      "Name         0\n",
      "dtype: int64\n"
     ]
    }
   ],
   "source": [
    "null_counts = df.isnull().sum()\n",
    "print(null_counts)"
   ]
  },
  {
   "cell_type": "code",
   "execution_count": 208,
   "metadata": {},
   "outputs": [],
   "source": [
    "df = df.dropna()"
   ]
  },
  {
   "cell_type": "code",
   "execution_count": 209,
   "metadata": {},
   "outputs": [
    {
     "data": {
      "text/html": [
       "<div>\n",
       "<style scoped>\n",
       "    .dataframe tbody tr th:only-of-type {\n",
       "        vertical-align: middle;\n",
       "    }\n",
       "\n",
       "    .dataframe tbody tr th {\n",
       "        vertical-align: top;\n",
       "    }\n",
       "\n",
       "    .dataframe thead th {\n",
       "        text-align: right;\n",
       "    }\n",
       "</style>\n",
       "<table border=\"1\" class=\"dataframe\">\n",
       "  <thead>\n",
       "    <tr style=\"text-align: right;\">\n",
       "      <th></th>\n",
       "      <th>BGGId</th>\n",
       "      <th>Rating</th>\n",
       "      <th>Username</th>\n",
       "      <th>Name</th>\n",
       "    </tr>\n",
       "  </thead>\n",
       "  <tbody>\n",
       "    <tr>\n",
       "      <th>0</th>\n",
       "      <td>213788</td>\n",
       "      <td>8.0</td>\n",
       "      <td>Tonydorrf</td>\n",
       "      <td>Ascension: Year Three Collector's Edition</td>\n",
       "    </tr>\n",
       "    <tr>\n",
       "      <th>1</th>\n",
       "      <td>213788</td>\n",
       "      <td>8.0</td>\n",
       "      <td>tachyon14k</td>\n",
       "      <td>Ascension: Year Three Collector's Edition</td>\n",
       "    </tr>\n",
       "    <tr>\n",
       "      <th>2</th>\n",
       "      <td>213788</td>\n",
       "      <td>8.0</td>\n",
       "      <td>Ungotter</td>\n",
       "      <td>Ascension: Year Three Collector's Edition</td>\n",
       "    </tr>\n",
       "    <tr>\n",
       "      <th>3</th>\n",
       "      <td>213788</td>\n",
       "      <td>8.0</td>\n",
       "      <td>brainlocki3</td>\n",
       "      <td>Ascension: Year Three Collector's Edition</td>\n",
       "    </tr>\n",
       "    <tr>\n",
       "      <th>4</th>\n",
       "      <td>213788</td>\n",
       "      <td>8.0</td>\n",
       "      <td>PPMP</td>\n",
       "      <td>Ascension: Year Three Collector's Edition</td>\n",
       "    </tr>\n",
       "    <tr>\n",
       "      <th>...</th>\n",
       "      <td>...</td>\n",
       "      <td>...</td>\n",
       "      <td>...</td>\n",
       "      <td>...</td>\n",
       "    </tr>\n",
       "    <tr>\n",
       "      <th>18942210</th>\n",
       "      <td>165521</td>\n",
       "      <td>3.0</td>\n",
       "      <td>rseater</td>\n",
       "      <td>Rory's Story Cubes: Medic</td>\n",
       "    </tr>\n",
       "    <tr>\n",
       "      <th>18942211</th>\n",
       "      <td>165521</td>\n",
       "      <td>3.0</td>\n",
       "      <td>Bluefox86</td>\n",
       "      <td>Rory's Story Cubes: Medic</td>\n",
       "    </tr>\n",
       "    <tr>\n",
       "      <th>18942212</th>\n",
       "      <td>165521</td>\n",
       "      <td>3.0</td>\n",
       "      <td>serginator</td>\n",
       "      <td>Rory's Story Cubes: Medic</td>\n",
       "    </tr>\n",
       "    <tr>\n",
       "      <th>18942213</th>\n",
       "      <td>193488</td>\n",
       "      <td>1.0</td>\n",
       "      <td>CaptainCattan</td>\n",
       "      <td>Airlines</td>\n",
       "    </tr>\n",
       "    <tr>\n",
       "      <th>18942214</th>\n",
       "      <td>193488</td>\n",
       "      <td>1.0</td>\n",
       "      <td>trodat123</td>\n",
       "      <td>Airlines</td>\n",
       "    </tr>\n",
       "  </tbody>\n",
       "</table>\n",
       "<p>18942152 rows × 4 columns</p>\n",
       "</div>"
      ],
      "text/plain": [
       "           BGGId  Rating       Username  \\\n",
       "0         213788     8.0      Tonydorrf   \n",
       "1         213788     8.0     tachyon14k   \n",
       "2         213788     8.0       Ungotter   \n",
       "3         213788     8.0    brainlocki3   \n",
       "4         213788     8.0           PPMP   \n",
       "...          ...     ...            ...   \n",
       "18942210  165521     3.0        rseater   \n",
       "18942211  165521     3.0      Bluefox86   \n",
       "18942212  165521     3.0     serginator   \n",
       "18942213  193488     1.0  CaptainCattan   \n",
       "18942214  193488     1.0      trodat123   \n",
       "\n",
       "                                               Name  \n",
       "0         Ascension: Year Three Collector's Edition  \n",
       "1         Ascension: Year Three Collector's Edition  \n",
       "2         Ascension: Year Three Collector's Edition  \n",
       "3         Ascension: Year Three Collector's Edition  \n",
       "4         Ascension: Year Three Collector's Edition  \n",
       "...                                             ...  \n",
       "18942210                  Rory's Story Cubes: Medic  \n",
       "18942211                  Rory's Story Cubes: Medic  \n",
       "18942212                  Rory's Story Cubes: Medic  \n",
       "18942213                                   Airlines  \n",
       "18942214                                   Airlines  \n",
       "\n",
       "[18942152 rows x 4 columns]"
      ]
     },
     "execution_count": 209,
     "metadata": {},
     "output_type": "execute_result"
    }
   ],
   "source": [
    "df"
   ]
  },
  {
   "cell_type": "code",
   "execution_count": 210,
   "metadata": {},
   "outputs": [
    {
     "name": "stdout",
     "output_type": "stream",
     "text": [
      "False    18942152\n",
      "dtype: int64\n"
     ]
    }
   ],
   "source": [
    "#Check if any rows are duplicates\n",
    "duplicates = df.duplicated().value_counts()\n",
    "print(duplicates)"
   ]
  },
  {
   "cell_type": "markdown",
   "metadata": {},
   "source": [
    "Remove duplicate ratings for the same game by the same user (due to different version of the game etc)"
   ]
  },
  {
   "cell_type": "code",
   "execution_count": 211,
   "metadata": {},
   "outputs": [],
   "source": [
    "# Merge the mean ratings back to the original DataFrame based on 'Username' and 'Name'\n",
    "# Filter the DataFrame to keep only the original rows (non-duplicates) and the calculated mean ratings\n",
    "# Drop the original 'Rating' column and rename the mean rating column\n",
    "# Reindex the columns to move 'Rating' to the second position\n",
    "mean_ratings = df.groupby(['Username', 'BGGId'])['Rating'].mean()\n",
    "df_removed_duplicates = df.merge(mean_ratings, \n",
    "            on=['Username', 'BGGId'], suffixes=('', '_mean'))\n",
    "df_unique = df_removed_duplicates[~df_removed_duplicates.\n",
    "            duplicated(subset=['Username', 'BGGId'], keep=False)]\n",
    "df_dropped = df_unique.drop(columns=['Rating']).rename(columns=\n",
    "            {'Rating_mean': 'Rating'})\n",
    "column_order = ['BGGId', 'Rating', 'Username', 'Name']\n",
    "df_dropped = df_dropped.reindex(columns=column_order)\n"
   ]
  },
  {
   "cell_type": "markdown",
   "metadata": {},
   "source": [
    "Calculate average rating for users and add average rating and adjusted rating column"
   ]
  },
  {
   "cell_type": "code",
   "execution_count": 212,
   "metadata": {},
   "outputs": [],
   "source": [
    "# Step 1: Group by 'Username' and calculate the average rating for each user\n",
    "# Step 2: Merge the average ratings back into the original DataFrame\n",
    "# Step 3: Subtract the average rating from each rating to get the adjusted rating\n",
    "# Now df contains the adjusted ratings in the 'Adjusted_Rating' column\n",
    "user_avg_ratings = df_dropped.groupby(\n",
    "    'Username')['Rating'].mean().reset_index()\n",
    "df_adjusted_mean = pd.merge(df_dropped, user_avg_ratings, \n",
    "                            on='Username', suffixes=('', '_avg'))\n",
    "df_adjusted_mean['Adjusted_Rating'] = df_adjusted_mean[\n",
    "    'Rating'] - df_adjusted_mean['Rating_avg']\n",
    "column_order = ['BGGId', 'Rating', 'Rating_avg', \n",
    "                'Adjusted_Rating', 'Username', 'Name']\n",
    "df_adjusted_mean = df_adjusted_mean.reindex(columns=column_order)"
   ]
  },
  {
   "cell_type": "code",
   "execution_count": 213,
   "metadata": {},
   "outputs": [
    {
     "data": {
      "text/html": [
       "<div>\n",
       "<style scoped>\n",
       "    .dataframe tbody tr th:only-of-type {\n",
       "        vertical-align: middle;\n",
       "    }\n",
       "\n",
       "    .dataframe tbody tr th {\n",
       "        vertical-align: top;\n",
       "    }\n",
       "\n",
       "    .dataframe thead th {\n",
       "        text-align: right;\n",
       "    }\n",
       "</style>\n",
       "<table border=\"1\" class=\"dataframe\">\n",
       "  <thead>\n",
       "    <tr style=\"text-align: right;\">\n",
       "      <th></th>\n",
       "      <th>BGGId</th>\n",
       "      <th>Rating</th>\n",
       "      <th>Rating_avg</th>\n",
       "      <th>Adjusted_Rating</th>\n",
       "      <th>Username</th>\n",
       "      <th>Name</th>\n",
       "    </tr>\n",
       "  </thead>\n",
       "  <tbody>\n",
       "    <tr>\n",
       "      <th>0</th>\n",
       "      <td>213788</td>\n",
       "      <td>8.0</td>\n",
       "      <td>7.367589</td>\n",
       "      <td>0.632411</td>\n",
       "      <td>Tonydorrf</td>\n",
       "      <td>Ascension: Year Three Collector's Edition</td>\n",
       "    </tr>\n",
       "    <tr>\n",
       "      <th>1</th>\n",
       "      <td>206593</td>\n",
       "      <td>8.0</td>\n",
       "      <td>7.367589</td>\n",
       "      <td>0.632411</td>\n",
       "      <td>Tonydorrf</td>\n",
       "      <td>Stronghold: Undead (Second Edition) – Kickstar...</td>\n",
       "    </tr>\n",
       "    <tr>\n",
       "      <th>2</th>\n",
       "      <td>267333</td>\n",
       "      <td>7.0</td>\n",
       "      <td>7.367589</td>\n",
       "      <td>-0.367589</td>\n",
       "      <td>Tonydorrf</td>\n",
       "      <td>Goetia: Nine Kings of Solomon</td>\n",
       "    </tr>\n",
       "    <tr>\n",
       "      <th>3</th>\n",
       "      <td>249824</td>\n",
       "      <td>6.0</td>\n",
       "      <td>7.367589</td>\n",
       "      <td>-1.367589</td>\n",
       "      <td>Tonydorrf</td>\n",
       "      <td>Munchkin Harry Potter Deluxe</td>\n",
       "    </tr>\n",
       "    <tr>\n",
       "      <th>4</th>\n",
       "      <td>301085</td>\n",
       "      <td>6.0</td>\n",
       "      <td>7.367589</td>\n",
       "      <td>-1.367589</td>\n",
       "      <td>Tonydorrf</td>\n",
       "      <td>Rebis</td>\n",
       "    </tr>\n",
       "    <tr>\n",
       "      <th>...</th>\n",
       "      <td>...</td>\n",
       "      <td>...</td>\n",
       "      <td>...</td>\n",
       "      <td>...</td>\n",
       "      <td>...</td>\n",
       "      <td>...</td>\n",
       "    </tr>\n",
       "    <tr>\n",
       "      <th>18878027</th>\n",
       "      <td>195742</td>\n",
       "      <td>5.0</td>\n",
       "      <td>5.000000</td>\n",
       "      <td>0.000000</td>\n",
       "      <td>codyk4545</td>\n",
       "      <td>The Godfather: A New Don</td>\n",
       "    </tr>\n",
       "    <tr>\n",
       "      <th>18878028</th>\n",
       "      <td>215065</td>\n",
       "      <td>2.0</td>\n",
       "      <td>2.000000</td>\n",
       "      <td>0.000000</td>\n",
       "      <td>UnrealTravis</td>\n",
       "      <td>75 Gnom' Street</td>\n",
       "    </tr>\n",
       "    <tr>\n",
       "      <th>18878029</th>\n",
       "      <td>127096</td>\n",
       "      <td>3.0</td>\n",
       "      <td>3.000000</td>\n",
       "      <td>0.000000</td>\n",
       "      <td>Elianto1989</td>\n",
       "      <td>Metal Adventures</td>\n",
       "    </tr>\n",
       "    <tr>\n",
       "      <th>18878030</th>\n",
       "      <td>126471</td>\n",
       "      <td>2.0</td>\n",
       "      <td>2.000000</td>\n",
       "      <td>0.000000</td>\n",
       "      <td>DaLanimilbus</td>\n",
       "      <td>Nowhere to Go</td>\n",
       "    </tr>\n",
       "    <tr>\n",
       "      <th>18878031</th>\n",
       "      <td>209542</td>\n",
       "      <td>5.0</td>\n",
       "      <td>5.000000</td>\n",
       "      <td>0.000000</td>\n",
       "      <td>juefan</td>\n",
       "      <td>Diesel Demolition Derby</td>\n",
       "    </tr>\n",
       "  </tbody>\n",
       "</table>\n",
       "<p>18878032 rows × 6 columns</p>\n",
       "</div>"
      ],
      "text/plain": [
       "           BGGId  Rating  Rating_avg  Adjusted_Rating      Username  \\\n",
       "0         213788     8.0    7.367589         0.632411     Tonydorrf   \n",
       "1         206593     8.0    7.367589         0.632411     Tonydorrf   \n",
       "2         267333     7.0    7.367589        -0.367589     Tonydorrf   \n",
       "3         249824     6.0    7.367589        -1.367589     Tonydorrf   \n",
       "4         301085     6.0    7.367589        -1.367589     Tonydorrf   \n",
       "...          ...     ...         ...              ...           ...   \n",
       "18878027  195742     5.0    5.000000         0.000000     codyk4545   \n",
       "18878028  215065     2.0    2.000000         0.000000  UnrealTravis   \n",
       "18878029  127096     3.0    3.000000         0.000000   Elianto1989   \n",
       "18878030  126471     2.0    2.000000         0.000000  DaLanimilbus   \n",
       "18878031  209542     5.0    5.000000         0.000000        juefan   \n",
       "\n",
       "                                                       Name  \n",
       "0                 Ascension: Year Three Collector's Edition  \n",
       "1         Stronghold: Undead (Second Edition) – Kickstar...  \n",
       "2                             Goetia: Nine Kings of Solomon  \n",
       "3                              Munchkin Harry Potter Deluxe  \n",
       "4                                                     Rebis  \n",
       "...                                                     ...  \n",
       "18878027                           The Godfather: A New Don  \n",
       "18878028                                    75 Gnom' Street  \n",
       "18878029                                   Metal Adventures  \n",
       "18878030                                      Nowhere to Go  \n",
       "18878031                            Diesel Demolition Derby  \n",
       "\n",
       "[18878032 rows x 6 columns]"
      ]
     },
     "execution_count": 213,
     "metadata": {},
     "output_type": "execute_result"
    }
   ],
   "source": [
    "df_adjusted_mean"
   ]
  },
  {
   "cell_type": "markdown",
   "metadata": {},
   "source": [
    "Filter dataset"
   ]
  },
  {
   "cell_type": "code",
   "execution_count": 214,
   "metadata": {},
   "outputs": [
    {
     "data": {
      "text/plain": [
       "Username\n",
       " Fu_Koios              2\n",
       " beastvol              9\n",
       " mycroft              14\n",
       " woh                   5\n",
       "(mostly) harmless      1\n",
       "                    ... \n",
       "zzzuzu                39\n",
       "zzzvone               21\n",
       "zzzxxxyyy             32\n",
       "zzzzzane             154\n",
       "Æleksandr Þræð        12\n",
       "Length: 411312, dtype: int64"
      ]
     },
     "execution_count": 214,
     "metadata": {},
     "output_type": "execute_result"
    }
   ],
   "source": [
    "# Group by 'Username' and count the number of rows for each group\n",
    "grouped_user_counts = df_adjusted_mean.groupby('Username').size()\n",
    "grouped_user_counts"
   ]
  },
  {
   "cell_type": "code",
   "execution_count": 215,
   "metadata": {},
   "outputs": [
    {
     "data": {
      "text/plain": [
       "BGGId\n",
       "1          5295\n",
       "2           560\n",
       "3         15077\n",
       "4           342\n",
       "5         18152\n",
       "          ...  \n",
       "347146       42\n",
       "347521       71\n",
       "348955       67\n",
       "349131       66\n",
       "349161        7\n",
       "Length: 21925, dtype: int64"
      ]
     },
     "execution_count": 215,
     "metadata": {},
     "output_type": "execute_result"
    }
   ],
   "source": [
    "# Group by 'BGGId' and count the number of rows for each group\n",
    "grouped_counts = df_adjusted_mean.groupby('BGGId').size()\n",
    "grouped_counts"
   ]
  },
  {
   "cell_type": "code",
   "execution_count": 216,
   "metadata": {},
   "outputs": [],
   "source": [
    "game_ratings = 3000\n",
    "rating_counter = df_adjusted_mean['BGGId'].value_counts()\n",
    "filtered_out = rating_counter[rating_counter < game_ratings].index\n",
    "games_mask = df_adjusted_mean['BGGId'].isin(filtered_out)\n",
    "df_adjusted_mean.drop(index=df_adjusted_mean[games_mask].index, \n",
    "                      inplace=True)"
   ]
  },
  {
   "cell_type": "code",
   "execution_count": 217,
   "metadata": {},
   "outputs": [
    {
     "data": {
      "text/html": [
       "<div>\n",
       "<style scoped>\n",
       "    .dataframe tbody tr th:only-of-type {\n",
       "        vertical-align: middle;\n",
       "    }\n",
       "\n",
       "    .dataframe tbody tr th {\n",
       "        vertical-align: top;\n",
       "    }\n",
       "\n",
       "    .dataframe thead th {\n",
       "        text-align: right;\n",
       "    }\n",
       "</style>\n",
       "<table border=\"1\" class=\"dataframe\">\n",
       "  <thead>\n",
       "    <tr style=\"text-align: right;\">\n",
       "      <th></th>\n",
       "      <th>BGGId</th>\n",
       "      <th>Rating</th>\n",
       "      <th>Rating_avg</th>\n",
       "      <th>Adjusted_Rating</th>\n",
       "      <th>Username</th>\n",
       "      <th>Name</th>\n",
       "    </tr>\n",
       "  </thead>\n",
       "  <tbody>\n",
       "    <tr>\n",
       "      <th>44</th>\n",
       "      <td>36218</td>\n",
       "      <td>7.0</td>\n",
       "      <td>7.367589</td>\n",
       "      <td>-0.367589</td>\n",
       "      <td>Tonydorrf</td>\n",
       "      <td>Dominion</td>\n",
       "    </tr>\n",
       "    <tr>\n",
       "      <th>45</th>\n",
       "      <td>133473</td>\n",
       "      <td>6.0</td>\n",
       "      <td>7.367589</td>\n",
       "      <td>-1.367589</td>\n",
       "      <td>Tonydorrf</td>\n",
       "      <td>Sushi Go!</td>\n",
       "    </tr>\n",
       "    <tr>\n",
       "      <th>46</th>\n",
       "      <td>167791</td>\n",
       "      <td>9.0</td>\n",
       "      <td>7.367589</td>\n",
       "      <td>1.632411</td>\n",
       "      <td>Tonydorrf</td>\n",
       "      <td>Terraforming Mars</td>\n",
       "    </tr>\n",
       "    <tr>\n",
       "      <th>47</th>\n",
       "      <td>230802</td>\n",
       "      <td>8.0</td>\n",
       "      <td>7.367589</td>\n",
       "      <td>0.632411</td>\n",
       "      <td>Tonydorrf</td>\n",
       "      <td>Azul</td>\n",
       "    </tr>\n",
       "    <tr>\n",
       "      <th>48</th>\n",
       "      <td>174430</td>\n",
       "      <td>9.0</td>\n",
       "      <td>7.367589</td>\n",
       "      <td>1.632411</td>\n",
       "      <td>Tonydorrf</td>\n",
       "      <td>Gloomhaven</td>\n",
       "    </tr>\n",
       "    <tr>\n",
       "      <th>...</th>\n",
       "      <td>...</td>\n",
       "      <td>...</td>\n",
       "      <td>...</td>\n",
       "      <td>...</td>\n",
       "      <td>...</td>\n",
       "      <td>...</td>\n",
       "    </tr>\n",
       "    <tr>\n",
       "      <th>18852015</th>\n",
       "      <td>125548</td>\n",
       "      <td>10.0</td>\n",
       "      <td>10.000000</td>\n",
       "      <td>0.000000</td>\n",
       "      <td>brocespringsteen</td>\n",
       "      <td>Pixel Tactics</td>\n",
       "    </tr>\n",
       "    <tr>\n",
       "      <th>18852016</th>\n",
       "      <td>125548</td>\n",
       "      <td>10.0</td>\n",
       "      <td>10.000000</td>\n",
       "      <td>0.000000</td>\n",
       "      <td>Czerstwy</td>\n",
       "      <td>Pixel Tactics</td>\n",
       "    </tr>\n",
       "    <tr>\n",
       "      <th>18852018</th>\n",
       "      <td>125548</td>\n",
       "      <td>10.0</td>\n",
       "      <td>10.000000</td>\n",
       "      <td>0.000000</td>\n",
       "      <td>Shining Creations</td>\n",
       "      <td>Pixel Tactics</td>\n",
       "    </tr>\n",
       "    <tr>\n",
       "      <th>18852019</th>\n",
       "      <td>125548</td>\n",
       "      <td>10.0</td>\n",
       "      <td>10.000000</td>\n",
       "      <td>0.000000</td>\n",
       "      <td>MissTaluva</td>\n",
       "      <td>Pixel Tactics</td>\n",
       "    </tr>\n",
       "    <tr>\n",
       "      <th>18852020</th>\n",
       "      <td>55427</td>\n",
       "      <td>10.0</td>\n",
       "      <td>10.000000</td>\n",
       "      <td>0.000000</td>\n",
       "      <td>richdad</td>\n",
       "      <td>Mr. Jack in New York</td>\n",
       "    </tr>\n",
       "  </tbody>\n",
       "</table>\n",
       "<p>12345019 rows × 6 columns</p>\n",
       "</div>"
      ],
      "text/plain": [
       "           BGGId  Rating  Rating_avg  Adjusted_Rating           Username  \\\n",
       "44         36218     7.0    7.367589        -0.367589          Tonydorrf   \n",
       "45        133473     6.0    7.367589        -1.367589          Tonydorrf   \n",
       "46        167791     9.0    7.367589         1.632411          Tonydorrf   \n",
       "47        230802     8.0    7.367589         0.632411          Tonydorrf   \n",
       "48        174430     9.0    7.367589         1.632411          Tonydorrf   \n",
       "...          ...     ...         ...              ...                ...   \n",
       "18852015  125548    10.0   10.000000         0.000000   brocespringsteen   \n",
       "18852016  125548    10.0   10.000000         0.000000           Czerstwy   \n",
       "18852018  125548    10.0   10.000000         0.000000  Shining Creations   \n",
       "18852019  125548    10.0   10.000000         0.000000         MissTaluva   \n",
       "18852020   55427    10.0   10.000000         0.000000            richdad   \n",
       "\n",
       "                          Name  \n",
       "44                    Dominion  \n",
       "45                   Sushi Go!  \n",
       "46           Terraforming Mars  \n",
       "47                        Azul  \n",
       "48                  Gloomhaven  \n",
       "...                        ...  \n",
       "18852015         Pixel Tactics  \n",
       "18852016         Pixel Tactics  \n",
       "18852018         Pixel Tactics  \n",
       "18852019         Pixel Tactics  \n",
       "18852020  Mr. Jack in New York  \n",
       "\n",
       "[12345019 rows x 6 columns]"
      ]
     },
     "execution_count": 217,
     "metadata": {},
     "output_type": "execute_result"
    }
   ],
   "source": [
    "df_adjusted_mean"
   ]
  },
  {
   "cell_type": "code",
   "execution_count": 218,
   "metadata": {},
   "outputs": [],
   "source": [
    "user_ratings = 100\n",
    "rating_counter = df_adjusted_mean['Username'].value_counts()\n",
    "filtered_out = rating_counter[rating_counter < user_ratings].index\n",
    "user_mask = df_adjusted_mean['Username'].isin(filtered_out)\n",
    "df_adjusted_mean.drop(index=df_adjusted_mean[user_mask].index, \n",
    "                      inplace=True)"
   ]
  },
  {
   "cell_type": "code",
   "execution_count": 219,
   "metadata": {},
   "outputs": [
    {
     "data": {
      "text/html": [
       "<div>\n",
       "<style scoped>\n",
       "    .dataframe tbody tr th:only-of-type {\n",
       "        vertical-align: middle;\n",
       "    }\n",
       "\n",
       "    .dataframe tbody tr th {\n",
       "        vertical-align: top;\n",
       "    }\n",
       "\n",
       "    .dataframe thead th {\n",
       "        text-align: right;\n",
       "    }\n",
       "</style>\n",
       "<table border=\"1\" class=\"dataframe\">\n",
       "  <thead>\n",
       "    <tr style=\"text-align: right;\">\n",
       "      <th></th>\n",
       "      <th>BGGId</th>\n",
       "      <th>Rating</th>\n",
       "      <th>Rating_avg</th>\n",
       "      <th>Adjusted_Rating</th>\n",
       "      <th>Username</th>\n",
       "      <th>Name</th>\n",
       "    </tr>\n",
       "  </thead>\n",
       "  <tbody>\n",
       "    <tr>\n",
       "      <th>386</th>\n",
       "      <td>178900</td>\n",
       "      <td>7.0</td>\n",
       "      <td>7.641304</td>\n",
       "      <td>-0.641304</td>\n",
       "      <td>PPMP</td>\n",
       "      <td>Codenames</td>\n",
       "    </tr>\n",
       "    <tr>\n",
       "      <th>387</th>\n",
       "      <td>14996</td>\n",
       "      <td>7.0</td>\n",
       "      <td>7.641304</td>\n",
       "      <td>-0.641304</td>\n",
       "      <td>PPMP</td>\n",
       "      <td>Ticket to Ride: Europe</td>\n",
       "    </tr>\n",
       "    <tr>\n",
       "      <th>388</th>\n",
       "      <td>40692</td>\n",
       "      <td>7.0</td>\n",
       "      <td>7.641304</td>\n",
       "      <td>-0.641304</td>\n",
       "      <td>PPMP</td>\n",
       "      <td>Small World</td>\n",
       "    </tr>\n",
       "    <tr>\n",
       "      <th>389</th>\n",
       "      <td>822</td>\n",
       "      <td>8.0</td>\n",
       "      <td>7.641304</td>\n",
       "      <td>0.358696</td>\n",
       "      <td>PPMP</td>\n",
       "      <td>Carcassonne</td>\n",
       "    </tr>\n",
       "    <tr>\n",
       "      <th>390</th>\n",
       "      <td>70323</td>\n",
       "      <td>7.0</td>\n",
       "      <td>7.641304</td>\n",
       "      <td>-0.641304</td>\n",
       "      <td>PPMP</td>\n",
       "      <td>King of Tokyo</td>\n",
       "    </tr>\n",
       "    <tr>\n",
       "      <th>...</th>\n",
       "      <td>...</td>\n",
       "      <td>...</td>\n",
       "      <td>...</td>\n",
       "      <td>...</td>\n",
       "      <td>...</td>\n",
       "      <td>...</td>\n",
       "    </tr>\n",
       "    <tr>\n",
       "      <th>18691910</th>\n",
       "      <td>634</td>\n",
       "      <td>10.0</td>\n",
       "      <td>10.000000</td>\n",
       "      <td>0.000000</td>\n",
       "      <td>AbsterPro</td>\n",
       "      <td>River Dragons</td>\n",
       "    </tr>\n",
       "    <tr>\n",
       "      <th>18691911</th>\n",
       "      <td>174973</td>\n",
       "      <td>10.0</td>\n",
       "      <td>10.000000</td>\n",
       "      <td>0.000000</td>\n",
       "      <td>AbsterPro</td>\n",
       "      <td>Boss Monster 2: The Next Level</td>\n",
       "    </tr>\n",
       "    <tr>\n",
       "      <th>18691912</th>\n",
       "      <td>191894</td>\n",
       "      <td>10.0</td>\n",
       "      <td>10.000000</td>\n",
       "      <td>0.000000</td>\n",
       "      <td>AbsterPro</td>\n",
       "      <td>Imagine</td>\n",
       "    </tr>\n",
       "    <tr>\n",
       "      <th>18691913</th>\n",
       "      <td>19526</td>\n",
       "      <td>10.0</td>\n",
       "      <td>10.000000</td>\n",
       "      <td>0.000000</td>\n",
       "      <td>AbsterPro</td>\n",
       "      <td>Elasund: The First City</td>\n",
       "    </tr>\n",
       "    <tr>\n",
       "      <th>18691914</th>\n",
       "      <td>217</td>\n",
       "      <td>10.0</td>\n",
       "      <td>10.000000</td>\n",
       "      <td>0.000000</td>\n",
       "      <td>AbsterPro</td>\n",
       "      <td>A la carte</td>\n",
       "    </tr>\n",
       "  </tbody>\n",
       "</table>\n",
       "<p>5958757 rows × 6 columns</p>\n",
       "</div>"
      ],
      "text/plain": [
       "           BGGId  Rating  Rating_avg  Adjusted_Rating   Username  \\\n",
       "386       178900     7.0    7.641304        -0.641304       PPMP   \n",
       "387        14996     7.0    7.641304        -0.641304       PPMP   \n",
       "388        40692     7.0    7.641304        -0.641304       PPMP   \n",
       "389          822     8.0    7.641304         0.358696       PPMP   \n",
       "390        70323     7.0    7.641304        -0.641304       PPMP   \n",
       "...          ...     ...         ...              ...        ...   \n",
       "18691910     634    10.0   10.000000         0.000000  AbsterPro   \n",
       "18691911  174973    10.0   10.000000         0.000000  AbsterPro   \n",
       "18691912  191894    10.0   10.000000         0.000000  AbsterPro   \n",
       "18691913   19526    10.0   10.000000         0.000000  AbsterPro   \n",
       "18691914     217    10.0   10.000000         0.000000  AbsterPro   \n",
       "\n",
       "                                    Name  \n",
       "386                            Codenames  \n",
       "387               Ticket to Ride: Europe  \n",
       "388                          Small World  \n",
       "389                          Carcassonne  \n",
       "390                        King of Tokyo  \n",
       "...                                  ...  \n",
       "18691910                   River Dragons  \n",
       "18691911  Boss Monster 2: The Next Level  \n",
       "18691912                         Imagine  \n",
       "18691913         Elasund: The First City  \n",
       "18691914                      A la carte  \n",
       "\n",
       "[5958757 rows x 6 columns]"
      ]
     },
     "execution_count": 219,
     "metadata": {},
     "output_type": "execute_result"
    }
   ],
   "source": [
    "df_adjusted_mean"
   ]
  },
  {
   "cell_type": "code",
   "execution_count": 220,
   "metadata": {},
   "outputs": [
    {
     "data": {
      "text/plain": [
       "Username\n",
       "-=Yod@=-     201\n",
       "-Johnny-     245\n",
       "-mIDE-       356\n",
       "-toni-       137\n",
       "...Hammer    123\n",
       "            ... \n",
       "zzyzxuk      118\n",
       "zzzabiss     296\n",
       "zzzhsm       171\n",
       "zzzoren      141\n",
       "zzzzzane     136\n",
       "Length: 31482, dtype: int64"
      ]
     },
     "execution_count": 220,
     "metadata": {},
     "output_type": "execute_result"
    }
   ],
   "source": [
    "# Group by 'Username' and count the number of rows for each group\n",
    "grouped_user_counts = df_adjusted_mean.groupby('Username').size()\n",
    "grouped_user_counts"
   ]
  },
  {
   "cell_type": "code",
   "execution_count": 221,
   "metadata": {},
   "outputs": [
    {
     "data": {
      "text/plain": [
       "BGGId\n",
       "1         3647\n",
       "3         8711\n",
       "5         9065\n",
       "7         1751\n",
       "10        5111\n",
       "          ... \n",
       "316554    5818\n",
       "317985    3028\n",
       "318977    2779\n",
       "328871    1826\n",
       "329465    1812\n",
       "Length: 1167, dtype: int64"
      ]
     },
     "execution_count": 221,
     "metadata": {},
     "output_type": "execute_result"
    }
   ],
   "source": [
    "# Group by 'BGGId' and count the number of rows for each group\n",
    "grouped_counts = df_adjusted_mean.groupby('BGGId').size()\n",
    "grouped_counts"
   ]
  },
  {
   "cell_type": "code",
   "execution_count": 222,
   "metadata": {},
   "outputs": [
    {
     "data": {
      "text/plain": [
       "Username\n",
       "leffe dubbel            1081\n",
       "Hessu68                 1020\n",
       "oldgoat3769967          1002\n",
       "TomVasel                 996\n",
       "Pandorzecza              953\n",
       "                        ... \n",
       "RoN_Rancor               100\n",
       "generationX              100\n",
       "Nathan G                 100\n",
       "starvinmartian_games     100\n",
       "chsbellboy               100\n",
       "Length: 31482, dtype: int64"
      ]
     },
     "execution_count": 222,
     "metadata": {},
     "output_type": "execute_result"
    }
   ],
   "source": [
    "grouped_by_username = df_adjusted_mean.groupby('Username').size().sort_values(ascending=False)\n",
    "grouped_by_username"
   ]
  },
  {
   "cell_type": "code",
   "execution_count": 223,
   "metadata": {},
   "outputs": [
    {
     "data": {
      "text/html": [
       "<div>\n",
       "<style scoped>\n",
       "    .dataframe tbody tr th:only-of-type {\n",
       "        vertical-align: middle;\n",
       "    }\n",
       "\n",
       "    .dataframe tbody tr th {\n",
       "        vertical-align: top;\n",
       "    }\n",
       "\n",
       "    .dataframe thead th {\n",
       "        text-align: right;\n",
       "    }\n",
       "</style>\n",
       "<table border=\"1\" class=\"dataframe\">\n",
       "  <thead>\n",
       "    <tr style=\"text-align: right;\">\n",
       "      <th></th>\n",
       "      <th>BGGId</th>\n",
       "      <th>Rating</th>\n",
       "      <th>Rating_avg</th>\n",
       "      <th>Adjusted_Rating</th>\n",
       "      <th>Username</th>\n",
       "      <th>Name</th>\n",
       "    </tr>\n",
       "  </thead>\n",
       "  <tbody>\n",
       "    <tr>\n",
       "      <th>386</th>\n",
       "      <td>178900</td>\n",
       "      <td>7.0</td>\n",
       "      <td>7.641304</td>\n",
       "      <td>-0.641304</td>\n",
       "      <td>PPMP</td>\n",
       "      <td>Codenames</td>\n",
       "    </tr>\n",
       "    <tr>\n",
       "      <th>387</th>\n",
       "      <td>14996</td>\n",
       "      <td>7.0</td>\n",
       "      <td>7.641304</td>\n",
       "      <td>-0.641304</td>\n",
       "      <td>PPMP</td>\n",
       "      <td>Ticket to Ride: Europe</td>\n",
       "    </tr>\n",
       "    <tr>\n",
       "      <th>388</th>\n",
       "      <td>40692</td>\n",
       "      <td>7.0</td>\n",
       "      <td>7.641304</td>\n",
       "      <td>-0.641304</td>\n",
       "      <td>PPMP</td>\n",
       "      <td>Small World</td>\n",
       "    </tr>\n",
       "    <tr>\n",
       "      <th>389</th>\n",
       "      <td>822</td>\n",
       "      <td>8.0</td>\n",
       "      <td>7.641304</td>\n",
       "      <td>0.358696</td>\n",
       "      <td>PPMP</td>\n",
       "      <td>Carcassonne</td>\n",
       "    </tr>\n",
       "    <tr>\n",
       "      <th>390</th>\n",
       "      <td>70323</td>\n",
       "      <td>7.0</td>\n",
       "      <td>7.641304</td>\n",
       "      <td>-0.641304</td>\n",
       "      <td>PPMP</td>\n",
       "      <td>King of Tokyo</td>\n",
       "    </tr>\n",
       "    <tr>\n",
       "      <th>...</th>\n",
       "      <td>...</td>\n",
       "      <td>...</td>\n",
       "      <td>...</td>\n",
       "      <td>...</td>\n",
       "      <td>...</td>\n",
       "      <td>...</td>\n",
       "    </tr>\n",
       "    <tr>\n",
       "      <th>18691910</th>\n",
       "      <td>634</td>\n",
       "      <td>10.0</td>\n",
       "      <td>10.000000</td>\n",
       "      <td>0.000000</td>\n",
       "      <td>AbsterPro</td>\n",
       "      <td>River Dragons</td>\n",
       "    </tr>\n",
       "    <tr>\n",
       "      <th>18691911</th>\n",
       "      <td>174973</td>\n",
       "      <td>10.0</td>\n",
       "      <td>10.000000</td>\n",
       "      <td>0.000000</td>\n",
       "      <td>AbsterPro</td>\n",
       "      <td>Boss Monster 2: The Next Level</td>\n",
       "    </tr>\n",
       "    <tr>\n",
       "      <th>18691912</th>\n",
       "      <td>191894</td>\n",
       "      <td>10.0</td>\n",
       "      <td>10.000000</td>\n",
       "      <td>0.000000</td>\n",
       "      <td>AbsterPro</td>\n",
       "      <td>Imagine</td>\n",
       "    </tr>\n",
       "    <tr>\n",
       "      <th>18691913</th>\n",
       "      <td>19526</td>\n",
       "      <td>10.0</td>\n",
       "      <td>10.000000</td>\n",
       "      <td>0.000000</td>\n",
       "      <td>AbsterPro</td>\n",
       "      <td>Elasund: The First City</td>\n",
       "    </tr>\n",
       "    <tr>\n",
       "      <th>18691914</th>\n",
       "      <td>217</td>\n",
       "      <td>10.0</td>\n",
       "      <td>10.000000</td>\n",
       "      <td>0.000000</td>\n",
       "      <td>AbsterPro</td>\n",
       "      <td>A la carte</td>\n",
       "    </tr>\n",
       "  </tbody>\n",
       "</table>\n",
       "<p>5958757 rows × 6 columns</p>\n",
       "</div>"
      ],
      "text/plain": [
       "           BGGId  Rating  Rating_avg  Adjusted_Rating   Username  \\\n",
       "386       178900     7.0    7.641304        -0.641304       PPMP   \n",
       "387        14996     7.0    7.641304        -0.641304       PPMP   \n",
       "388        40692     7.0    7.641304        -0.641304       PPMP   \n",
       "389          822     8.0    7.641304         0.358696       PPMP   \n",
       "390        70323     7.0    7.641304        -0.641304       PPMP   \n",
       "...          ...     ...         ...              ...        ...   \n",
       "18691910     634    10.0   10.000000         0.000000  AbsterPro   \n",
       "18691911  174973    10.0   10.000000         0.000000  AbsterPro   \n",
       "18691912  191894    10.0   10.000000         0.000000  AbsterPro   \n",
       "18691913   19526    10.0   10.000000         0.000000  AbsterPro   \n",
       "18691914     217    10.0   10.000000         0.000000  AbsterPro   \n",
       "\n",
       "                                    Name  \n",
       "386                            Codenames  \n",
       "387               Ticket to Ride: Europe  \n",
       "388                          Small World  \n",
       "389                          Carcassonne  \n",
       "390                        King of Tokyo  \n",
       "...                                  ...  \n",
       "18691910                   River Dragons  \n",
       "18691911  Boss Monster 2: The Next Level  \n",
       "18691912                         Imagine  \n",
       "18691913         Elasund: The First City  \n",
       "18691914                      A la carte  \n",
       "\n",
       "[5958757 rows x 6 columns]"
      ]
     },
     "execution_count": 223,
     "metadata": {},
     "output_type": "execute_result"
    }
   ],
   "source": [
    "df_adjusted_mean"
   ]
  },
  {
   "cell_type": "code",
   "execution_count": 224,
   "metadata": {},
   "outputs": [],
   "source": [
    "average_ratings = dict(zip(df_adjusted_mean['Username'], df_adjusted_mean['Rating_avg']))"
   ]
  },
  {
   "cell_type": "markdown",
   "metadata": {},
   "source": [
    "Train test split"
   ]
  },
  {
   "cell_type": "code",
   "execution_count": 225,
   "metadata": {},
   "outputs": [],
   "source": [
    "# Define a function to split the data for each user\n",
    "def user_split(data, random_state, test_size=0.2):    \n",
    "    train_to_concat = []\n",
    "    test_to_concat = []\n",
    "    for user, group in data.groupby('Username'):\n",
    "        train_user, test_user = train_test_split(group, test_size=test_size, train_size=1-test_size, random_state=random_state)\n",
    "        train_to_concat.append(train_user)\n",
    "        test_to_concat.append(test_user)\n",
    "    \n",
    "    train = pd.concat(train_to_concat, ignore_index=True)\n",
    "    test = pd.concat(test_to_concat, ignore_index=True)\n",
    "\n",
    "    return train, test\n"
   ]
  },
  {
   "cell_type": "code",
   "execution_count": 226,
   "metadata": {},
   "outputs": [],
   "source": [
    "train_set, test_set = user_split(data=df_adjusted_mean, \n",
    "                                 random_state=0, test_size=0.2)"
   ]
  },
  {
   "cell_type": "code",
   "execution_count": 228,
   "metadata": {},
   "outputs": [
    {
     "data": {
      "text/html": [
       "<div>\n",
       "<style scoped>\n",
       "    .dataframe tbody tr th:only-of-type {\n",
       "        vertical-align: middle;\n",
       "    }\n",
       "\n",
       "    .dataframe tbody tr th {\n",
       "        vertical-align: top;\n",
       "    }\n",
       "\n",
       "    .dataframe thead th {\n",
       "        text-align: right;\n",
       "    }\n",
       "</style>\n",
       "<table border=\"1\" class=\"dataframe\">\n",
       "  <thead>\n",
       "    <tr style=\"text-align: right;\">\n",
       "      <th></th>\n",
       "      <th>BGGId</th>\n",
       "      <th>Rating</th>\n",
       "      <th>Rating_avg</th>\n",
       "      <th>Adjusted_Rating</th>\n",
       "      <th>Username</th>\n",
       "      <th>Name</th>\n",
       "    </tr>\n",
       "  </thead>\n",
       "  <tbody>\n",
       "    <tr>\n",
       "      <th>0</th>\n",
       "      <td>266192</td>\n",
       "      <td>9.0</td>\n",
       "      <td>7.287829</td>\n",
       "      <td>1.712171</td>\n",
       "      <td>-=Yod@=-</td>\n",
       "      <td>Wingspan</td>\n",
       "    </tr>\n",
       "    <tr>\n",
       "      <th>1</th>\n",
       "      <td>103343</td>\n",
       "      <td>7.0</td>\n",
       "      <td>7.287829</td>\n",
       "      <td>-0.287829</td>\n",
       "      <td>-=Yod@=-</td>\n",
       "      <td>A Game of Thrones: The Board Game (Second Edit...</td>\n",
       "    </tr>\n",
       "    <tr>\n",
       "      <th>2</th>\n",
       "      <td>203417</td>\n",
       "      <td>6.0</td>\n",
       "      <td>7.287829</td>\n",
       "      <td>-1.287829</td>\n",
       "      <td>-=Yod@=-</td>\n",
       "      <td>Exit: The Game – The Secret Lab</td>\n",
       "    </tr>\n",
       "    <tr>\n",
       "      <th>3</th>\n",
       "      <td>205398</td>\n",
       "      <td>8.0</td>\n",
       "      <td>7.287829</td>\n",
       "      <td>0.712171</td>\n",
       "      <td>-=Yod@=-</td>\n",
       "      <td>Citadels</td>\n",
       "    </tr>\n",
       "    <tr>\n",
       "      <th>4</th>\n",
       "      <td>157354</td>\n",
       "      <td>8.0</td>\n",
       "      <td>7.287829</td>\n",
       "      <td>0.712171</td>\n",
       "      <td>-=Yod@=-</td>\n",
       "      <td>Five Tribes</td>\n",
       "    </tr>\n",
       "    <tr>\n",
       "      <th>...</th>\n",
       "      <td>...</td>\n",
       "      <td>...</td>\n",
       "      <td>...</td>\n",
       "      <td>...</td>\n",
       "      <td>...</td>\n",
       "      <td>...</td>\n",
       "    </tr>\n",
       "    <tr>\n",
       "      <th>4754392</th>\n",
       "      <td>1927</td>\n",
       "      <td>5.0</td>\n",
       "      <td>7.393506</td>\n",
       "      <td>-2.393506</td>\n",
       "      <td>zzzzzane</td>\n",
       "      <td>Munchkin</td>\n",
       "    </tr>\n",
       "    <tr>\n",
       "      <th>4754393</th>\n",
       "      <td>124172</td>\n",
       "      <td>6.0</td>\n",
       "      <td>7.393506</td>\n",
       "      <td>-1.393506</td>\n",
       "      <td>zzzzzane</td>\n",
       "      <td>Tsuro of the Seas</td>\n",
       "    </tr>\n",
       "    <tr>\n",
       "      <th>4754394</th>\n",
       "      <td>180263</td>\n",
       "      <td>8.8</td>\n",
       "      <td>7.393506</td>\n",
       "      <td>1.406494</td>\n",
       "      <td>zzzzzane</td>\n",
       "      <td>The 7th Continent</td>\n",
       "    </tr>\n",
       "    <tr>\n",
       "      <th>4754395</th>\n",
       "      <td>147151</td>\n",
       "      <td>8.5</td>\n",
       "      <td>7.393506</td>\n",
       "      <td>1.106494</td>\n",
       "      <td>zzzzzane</td>\n",
       "      <td>Concept</td>\n",
       "    </tr>\n",
       "    <tr>\n",
       "      <th>4754396</th>\n",
       "      <td>12942</td>\n",
       "      <td>7.0</td>\n",
       "      <td>7.393506</td>\n",
       "      <td>-0.393506</td>\n",
       "      <td>zzzzzane</td>\n",
       "      <td>No Thanks!</td>\n",
       "    </tr>\n",
       "  </tbody>\n",
       "</table>\n",
       "<p>4754397 rows × 6 columns</p>\n",
       "</div>"
      ],
      "text/plain": [
       "          BGGId  Rating  Rating_avg  Adjusted_Rating  Username  \\\n",
       "0        266192     9.0    7.287829         1.712171  -=Yod@=-   \n",
       "1        103343     7.0    7.287829        -0.287829  -=Yod@=-   \n",
       "2        203417     6.0    7.287829        -1.287829  -=Yod@=-   \n",
       "3        205398     8.0    7.287829         0.712171  -=Yod@=-   \n",
       "4        157354     8.0    7.287829         0.712171  -=Yod@=-   \n",
       "...         ...     ...         ...              ...       ...   \n",
       "4754392    1927     5.0    7.393506        -2.393506  zzzzzane   \n",
       "4754393  124172     6.0    7.393506        -1.393506  zzzzzane   \n",
       "4754394  180263     8.8    7.393506         1.406494  zzzzzane   \n",
       "4754395  147151     8.5    7.393506         1.106494  zzzzzane   \n",
       "4754396   12942     7.0    7.393506        -0.393506  zzzzzane   \n",
       "\n",
       "                                                      Name  \n",
       "0                                                 Wingspan  \n",
       "1        A Game of Thrones: The Board Game (Second Edit...  \n",
       "2                          Exit: The Game – The Secret Lab  \n",
       "3                                                 Citadels  \n",
       "4                                              Five Tribes  \n",
       "...                                                    ...  \n",
       "4754392                                           Munchkin  \n",
       "4754393                                  Tsuro of the Seas  \n",
       "4754394                                  The 7th Continent  \n",
       "4754395                                            Concept  \n",
       "4754396                                         No Thanks!  \n",
       "\n",
       "[4754397 rows x 6 columns]"
      ]
     },
     "execution_count": 228,
     "metadata": {},
     "output_type": "execute_result"
    }
   ],
   "source": [
    "train_set"
   ]
  },
  {
   "cell_type": "code",
   "execution_count": 229,
   "metadata": {},
   "outputs": [
    {
     "data": {
      "text/html": [
       "<div>\n",
       "<style scoped>\n",
       "    .dataframe tbody tr th:only-of-type {\n",
       "        vertical-align: middle;\n",
       "    }\n",
       "\n",
       "    .dataframe tbody tr th {\n",
       "        vertical-align: top;\n",
       "    }\n",
       "\n",
       "    .dataframe thead th {\n",
       "        text-align: right;\n",
       "    }\n",
       "</style>\n",
       "<table border=\"1\" class=\"dataframe\">\n",
       "  <thead>\n",
       "    <tr style=\"text-align: right;\">\n",
       "      <th></th>\n",
       "      <th>BGGId</th>\n",
       "      <th>Rating</th>\n",
       "      <th>Rating_avg</th>\n",
       "      <th>Adjusted_Rating</th>\n",
       "      <th>Username</th>\n",
       "      <th>Name</th>\n",
       "    </tr>\n",
       "  </thead>\n",
       "  <tbody>\n",
       "    <tr>\n",
       "      <th>0</th>\n",
       "      <td>39856</td>\n",
       "      <td>7.5</td>\n",
       "      <td>7.287829</td>\n",
       "      <td>0.212171</td>\n",
       "      <td>-=Yod@=-</td>\n",
       "      <td>Dixit</td>\n",
       "    </tr>\n",
       "    <tr>\n",
       "      <th>1</th>\n",
       "      <td>213460</td>\n",
       "      <td>8.0</td>\n",
       "      <td>7.287829</td>\n",
       "      <td>0.712171</td>\n",
       "      <td>-=Yod@=-</td>\n",
       "      <td>Unlock!: Escape Adventures</td>\n",
       "    </tr>\n",
       "    <tr>\n",
       "      <th>2</th>\n",
       "      <td>38054</td>\n",
       "      <td>6.0</td>\n",
       "      <td>7.287829</td>\n",
       "      <td>-1.287829</td>\n",
       "      <td>-=Yod@=-</td>\n",
       "      <td>Snow Tails</td>\n",
       "    </tr>\n",
       "    <tr>\n",
       "      <th>3</th>\n",
       "      <td>127023</td>\n",
       "      <td>8.0</td>\n",
       "      <td>7.287829</td>\n",
       "      <td>0.712171</td>\n",
       "      <td>-=Yod@=-</td>\n",
       "      <td>Kemet</td>\n",
       "    </tr>\n",
       "    <tr>\n",
       "      <th>4</th>\n",
       "      <td>2381</td>\n",
       "      <td>7.5</td>\n",
       "      <td>7.287829</td>\n",
       "      <td>0.212171</td>\n",
       "      <td>-=Yod@=-</td>\n",
       "      <td>Scattergories</td>\n",
       "    </tr>\n",
       "    <tr>\n",
       "      <th>...</th>\n",
       "      <td>...</td>\n",
       "      <td>...</td>\n",
       "      <td>...</td>\n",
       "      <td>...</td>\n",
       "      <td>...</td>\n",
       "      <td>...</td>\n",
       "    </tr>\n",
       "    <tr>\n",
       "      <th>1204355</th>\n",
       "      <td>37046</td>\n",
       "      <td>6.0</td>\n",
       "      <td>7.393506</td>\n",
       "      <td>-1.393506</td>\n",
       "      <td>zzzzzane</td>\n",
       "      <td>Ghost Stories</td>\n",
       "    </tr>\n",
       "    <tr>\n",
       "      <th>1204356</th>\n",
       "      <td>144733</td>\n",
       "      <td>8.5</td>\n",
       "      <td>7.393506</td>\n",
       "      <td>1.106494</td>\n",
       "      <td>zzzzzane</td>\n",
       "      <td>Russian Railroads</td>\n",
       "    </tr>\n",
       "    <tr>\n",
       "      <th>1204357</th>\n",
       "      <td>140620</td>\n",
       "      <td>6.5</td>\n",
       "      <td>7.393506</td>\n",
       "      <td>-0.893506</td>\n",
       "      <td>zzzzzane</td>\n",
       "      <td>Lewis &amp; Clark: The Expedition</td>\n",
       "    </tr>\n",
       "    <tr>\n",
       "      <th>1204358</th>\n",
       "      <td>148228</td>\n",
       "      <td>7.0</td>\n",
       "      <td>7.393506</td>\n",
       "      <td>-0.393506</td>\n",
       "      <td>zzzzzane</td>\n",
       "      <td>Splendor</td>\n",
       "    </tr>\n",
       "    <tr>\n",
       "      <th>1204359</th>\n",
       "      <td>102794</td>\n",
       "      <td>6.0</td>\n",
       "      <td>7.393506</td>\n",
       "      <td>-1.393506</td>\n",
       "      <td>zzzzzane</td>\n",
       "      <td>Caverna: The Cave Farmers</td>\n",
       "    </tr>\n",
       "  </tbody>\n",
       "</table>\n",
       "<p>1204360 rows × 6 columns</p>\n",
       "</div>"
      ],
      "text/plain": [
       "          BGGId  Rating  Rating_avg  Adjusted_Rating  Username  \\\n",
       "0         39856     7.5    7.287829         0.212171  -=Yod@=-   \n",
       "1        213460     8.0    7.287829         0.712171  -=Yod@=-   \n",
       "2         38054     6.0    7.287829        -1.287829  -=Yod@=-   \n",
       "3        127023     8.0    7.287829         0.712171  -=Yod@=-   \n",
       "4          2381     7.5    7.287829         0.212171  -=Yod@=-   \n",
       "...         ...     ...         ...              ...       ...   \n",
       "1204355   37046     6.0    7.393506        -1.393506  zzzzzane   \n",
       "1204356  144733     8.5    7.393506         1.106494  zzzzzane   \n",
       "1204357  140620     6.5    7.393506        -0.893506  zzzzzane   \n",
       "1204358  148228     7.0    7.393506        -0.393506  zzzzzane   \n",
       "1204359  102794     6.0    7.393506        -1.393506  zzzzzane   \n",
       "\n",
       "                                  Name  \n",
       "0                                Dixit  \n",
       "1           Unlock!: Escape Adventures  \n",
       "2                           Snow Tails  \n",
       "3                                Kemet  \n",
       "4                        Scattergories  \n",
       "...                                ...  \n",
       "1204355                  Ghost Stories  \n",
       "1204356              Russian Railroads  \n",
       "1204357  Lewis & Clark: The Expedition  \n",
       "1204358                       Splendor  \n",
       "1204359      Caverna: The Cave Farmers  \n",
       "\n",
       "[1204360 rows x 6 columns]"
      ]
     },
     "execution_count": 229,
     "metadata": {},
     "output_type": "execute_result"
    }
   ],
   "source": [
    "test_set"
   ]
  },
  {
   "cell_type": "code",
   "execution_count": 160,
   "metadata": {},
   "outputs": [],
   "source": [
    "#Used to calculate MAE\n",
    "actual_ratings_test_set = {}\n",
    "for _, row in test_set.iterrows():\n",
    "    username = row['Username']\n",
    "    bggid = row['BGGId']\n",
    "    rating = row['Rating']\n",
    "    \n",
    "    if username not in actual_ratings_test_set:\n",
    "        actual_ratings_test_set[username] = {}\n",
    "    \n",
    "    actual_ratings_test_set[username][bggid] = rating"
   ]
  },
  {
   "cell_type": "code",
   "execution_count": 161,
   "metadata": {},
   "outputs": [],
   "source": [
    "#Used in calculate predicted rating\n",
    "actual_ratings_train_set = {}\n",
    "for _, row in train_set.iterrows():\n",
    "    username = row['Username']\n",
    "    bggid = row['BGGId']\n",
    "    rating = row['Rating']\n",
    "    \n",
    "    if username not in actual_ratings_train_set:\n",
    "        actual_ratings_train_set[username] = {}\n",
    "    \n",
    "    actual_ratings_train_set[username][bggid] = rating"
   ]
  },
  {
   "cell_type": "code",
   "execution_count": 162,
   "metadata": {},
   "outputs": [],
   "source": [
    "#Used to calculate MAE\n",
    "rated_items_test_set = {}\n",
    "for index, row in test_set.iterrows():\n",
    "    username = row['Username']\n",
    "    bggid = row['BGGId']\n",
    "    \n",
    "    if username not in rated_items_test_set:\n",
    "        rated_items_test_set[username] = []\n",
    "    \n",
    "    rated_items_test_set[username].append(bggid)"
   ]
  },
  {
   "cell_type": "code",
   "execution_count": 163,
   "metadata": {},
   "outputs": [],
   "source": [
    "#Used in calculate predicted rating\n",
    "rated_items_train_set = {}\n",
    "for index, row in train_set.iterrows():\n",
    "    username = row['Username']\n",
    "    bggid = row['BGGId']\n",
    "    \n",
    "    if username not in rated_items_train_set:\n",
    "        rated_items_train_set[username] = []\n",
    "    \n",
    "    rated_items_train_set[username].append(bggid)"
   ]
  },
  {
   "cell_type": "code",
   "execution_count": 164,
   "metadata": {},
   "outputs": [],
   "source": [
    "relevant_items_df = test_set.loc[test_set['Rating'] >= 7]\n",
    "# Initialize an empty dictionary to store Username as keys and lists of BGGId values as values\n",
    "relevant_items = {}\n",
    "\n",
    "# Iterate over the filtered DataFrame to populate the dictionary\n",
    "for username, bggid in relevant_items_df.groupby('Username')['BGGId']:\n",
    "    # Convert the groupby object to a list of BGGId values\n",
    "    bggid_list = list(bggid)\n",
    "    # Store the list of BGGId values for the current Username in the dictionary\n",
    "    relevant_items[username] = bggid_list"
   ]
  },
  {
   "cell_type": "markdown",
   "metadata": {},
   "source": [
    "filtrera dataframe "
   ]
  },
  {
   "cell_type": "markdown",
   "metadata": {},
   "source": [
    "3 Similarity Calculation\n",
    "\n",
    " Skapa en matris av item-för-item-similarity baserat på cosine similarity"
   ]
  },
  {
   "cell_type": "code",
   "execution_count": 230,
   "metadata": {},
   "outputs": [],
   "source": [
    "# Pivot the DataFrame so a user matrix, so rows represent users and columns represent items\n",
    "user_item_matrix = train_set.pivot(index='Username', \n",
    "                                   columns='BGGId', \n",
    "                                   values='Rating').fillna(0)\n",
    "user_item_matrix_with_nan = train_set.pivot(index='Username', \n",
    "                                            columns='BGGId', \n",
    "                                            values='Adjusted_Rating')"
   ]
  },
  {
   "cell_type": "code",
   "execution_count": 171,
   "metadata": {},
   "outputs": [],
   "source": [
    "# Used in recommend items\n",
    "\n",
    "not_rated_items_train_set = {}\n",
    "# Iterate over the rows of the DataFrame\n",
    "for username, row in user_item_matrix_with_nan.iterrows():\n",
    "    nan_bggid_list = []\n",
    "    # Iterate over the columns (BGGIds)\n",
    "    for bggid, value in row.items():\n",
    "        # Check if the value is NaN\n",
    "        if pd.isna(value):\n",
    "            nan_bggid_list.append(bggid)\n",
    "    # Store the list of BGGId values with NaN for the current Username in the dictionary\n",
    "    not_rated_items_train_set[username] = nan_bggid_list\n"
   ]
  },
  {
   "cell_type": "code",
   "execution_count": 231,
   "metadata": {},
   "outputs": [],
   "source": [
    "# Transpose the user-item matrix to obtain an item-user matrix\n",
    "item_user_matrix = user_item_matrix.T\n",
    "item_user_matrix_adjusted = user_item_matrix_with_nan.T"
   ]
  },
  {
   "cell_type": "code",
   "execution_count": 178,
   "metadata": {},
   "outputs": [],
   "source": [
    "def calculate_adjusted_cosine_similarity(matrix_transposed):\n",
    "    sparse_matrix = csr_matrix(matrix_transposed.values)\n",
    "    num_items = sparse_matrix.shape[0]\n",
    "\n",
    "    # Initialize an empty similarity matrix\n",
    "    similarity_matrix = np.zeros((num_items, num_items))\n",
    "\n",
    "    # Iterate over each row (item) in the transposed matrix by index\n",
    "    for i in range(num_items):\n",
    "        for j in range(i, num_items):  # Only compute upper triangle (similarity_matrix is symmetric)\n",
    "            # Get rows by numeric position using csr_matrix row slicing\n",
    "            row_i = sparse_matrix.getrow(i)\n",
    "            row_j = sparse_matrix.getrow(j)\n",
    "\n",
    "            # Find common indices and adjust to exclude columns with NaN values\n",
    "            common_indices = np.where(~np.isnan(row_i.toarray()) & ~np.isnan(row_j.toarray()))[1]\n",
    "    \n",
    "            if common_indices.size > 0:\n",
    "                # Get non-missing values for common users\n",
    "                non_missing_values_i = row_i[:, common_indices].toarray().flatten()\n",
    "                non_missing_values_j = row_j[:, common_indices].toarray().flatten()\n",
    "\n",
    "                # Check if both arrays have non-zero length\n",
    "                if len(non_missing_values_i) > 0 and len(non_missing_values_j) > 0:\n",
    "                    similarity = cosine_similarity([non_missing_values_i], [non_missing_values_j])[0, 0]\n",
    "                    similarity_matrix[i, j] = similarity\n",
    "                    similarity_matrix[j, i] = similarity\n",
    "\n",
    "    return similarity_matrix"
   ]
  },
  {
   "cell_type": "markdown",
   "metadata": {},
   "source": [
    "Calculate similarity"
   ]
  },
  {
   "cell_type": "code",
   "execution_count": 232,
   "metadata": {},
   "outputs": [],
   "source": [
    "# Calculate item similarity\n",
    "# Create a DataFrame with item names as both rows and columns\n",
    "# Set similarity to -5 for each item to itself\n",
    "# Convert similarity to distances (inversely proportional to similarities)\n",
    "item_similarity = calculate_adjusted_cosine_similarity(\n",
    "    item_user_matrix_adjusted)\n",
    "item_similarity_df = pd.DataFrame(\n",
    "    item_similarity, \n",
    "    index=item_user_matrix_adjusted.index, \n",
    "    columns=item_user_matrix_adjusted.index)\n",
    "np.fill_diagonal(item_similarity_df.values, -5)\n",
    "distance_matrix = 1 - item_similarity_df"
   ]
  },
  {
   "cell_type": "markdown",
   "metadata": {},
   "source": [
    "Calculate nearest neighbor"
   ]
  },
  {
   "cell_type": "code",
   "execution_count": 183,
   "metadata": {},
   "outputs": [],
   "source": [
    "def find_nearest_neighbors(distance_matrix, BGGId, nearest_neighbors_model):\n",
    "    distances, neighbor_indices = nearest_neighbors_model.kneighbors([distance_matrix[BGGId]], return_distance=True)\n",
    "\n",
    "    return distances, neighbor_indices"
   ]
  },
  {
   "cell_type": "code",
   "execution_count": 184,
   "metadata": {},
   "outputs": [],
   "source": [
    "def find_rated_neighbors(neighbor_distances, neighbor_indices, rated_items):\n",
    "    neighbor_indices = neighbor_indices[0]\n",
    "    neighbor_distances = neighbor_distances[0]\n",
    "    neighbors = item_user_matrix.iloc[neighbor_indices].index.tolist()\n",
    "    rated_neighbors = []\n",
    "    rated_neighbors_distances = []\n",
    "\n",
    "    for i in range(len(neighbors)):\n",
    "        if neighbors[i] in rated_items:\n",
    "            rated_neighbors.append(neighbors[i])\n",
    "            rated_neighbors_distances.append(neighbor_distances[i])\n",
    "    \n",
    "    return rated_neighbors_distances, rated_neighbors"
   ]
  },
  {
   "cell_type": "code",
   "execution_count": 185,
   "metadata": {},
   "outputs": [],
   "source": [
    "def get_predicted_rating(item, username, distance_matrix, nearest_neighbors_model):\n",
    "    rated_items = rated_items_train_set[username]\n",
    "    distances, neighbor_indices = find_nearest_neighbors(distance_matrix, item, nearest_neighbors_model)\n",
    "    rated_neighbors_distances, rated_neighbors = find_rated_neighbors(distances, neighbor_indices, rated_items)\n",
    "\n",
    "    if len(rated_neighbors) != 0:\n",
    "        numerator = 0\n",
    "        denominator = 0\n",
    "        for i in range(len(rated_neighbors)):\n",
    "            neighbor = rated_neighbors[i]\n",
    "            weight = 1 - rated_neighbors_distances[i] #transform distance into similarity\n",
    "            user_rating = actual_ratings_train_set[username][neighbor]\n",
    "            numerator += (weight * user_rating)\n",
    "            denominator += weight\n",
    "        predicted_rating_item = numerator / denominator\n",
    "        return predicted_rating_item\n",
    "    else:\n",
    "        average_rating = average_ratings[username]\n",
    "        return average_rating"
   ]
  },
  {
   "cell_type": "code",
   "execution_count": 186,
   "metadata": {},
   "outputs": [],
   "source": [
    "def recommend_items(distance_matrix, username, top_N, nearest_neighbors_model):\n",
    "    not_rated_items = not_rated_items_train_set[username]\n",
    "    predicted_ratings = []*len(not_rated_items)\n",
    "    predicted_items = []*len(not_rated_items)\n",
    "\n",
    "    for item in not_rated_items:\n",
    "        predicted_rating_item = get_predicted_rating(item, username, distance_matrix, nearest_neighbors_model)\n",
    "        predicted_ratings.append(predicted_rating_item)\n",
    "        predicted_items.append(item)  \n",
    "    \n",
    "    recommended_items = pd.DataFrame(predicted_ratings, index=predicted_items, columns=['Predicted rating'])\n",
    "    recommended_items.index.name = 'BGGId'\n",
    "    sorted_recommendations = recommended_items.sort_values(by=['Predicted rating'], ascending=False)\n",
    "    top_N_recommendations = sorted_recommendations.head(top_N)\n",
    "    top_N_list = top_N_recommendations.index.tolist()\n",
    "\n",
    "    return top_N_list"
   ]
  },
  {
   "cell_type": "code",
   "execution_count": 187,
   "metadata": {},
   "outputs": [],
   "source": [
    "def calculate_precision(recommended_items, relevant_items):\n",
    "    true_positives = 0\n",
    "    for item in recommended_items:\n",
    "        if item in relevant_items:\n",
    "            true_positives += 1\n",
    "    \n",
    "    return true_positives / len(recommended_items)\n"
   ]
  },
  {
   "cell_type": "code",
   "execution_count": 188,
   "metadata": {},
   "outputs": [],
   "source": [
    "def calculate_recall(recommended_items, relevant_items):\n",
    "    true_positives = 0\n",
    "    for item in recommended_items:\n",
    "        if item in relevant_items:\n",
    "            true_positives += 1\n",
    "    \n",
    "    return true_positives / len(relevant_items)"
   ]
  },
  {
   "cell_type": "code",
   "execution_count": 189,
   "metadata": {},
   "outputs": [],
   "source": [
    "def run_precision_recall_calculation(users, nearest_neighbors_model, top_N):\n",
    "    results_precision = []\n",
    "    results_recall = []\n",
    "\n",
    "    num_users, num_items = user_item_matrix.shape\n",
    "    for user in users:\n",
    "        recommended_items = recommend_items(distance_matrix, user, top_N, nearest_neighbors_model)\n",
    "        relevant_items_user = relevant_items[user]\n",
    "        precision = calculate_precision(recommended_items, relevant_items_user)\n",
    "        results_precision.append(precision)\n",
    "        recall = calculate_recall(recommended_items, relevant_items_user)\n",
    "        results_recall.append(recall)\n",
    "\n",
    "    return np.sum(results_precision) / len(users), np.sum(results_recall) / len(users)"
   ]
  },
  {
   "cell_type": "code",
   "execution_count": 190,
   "metadata": {},
   "outputs": [],
   "source": [
    "def calculate_mean_absolute_error(username, distance_matrix, nearest_neighbors_model):\n",
    "    actual_ratings = []\n",
    "    predicted_ratings = []\n",
    "    rated_items_testset = rated_items_test_set[username]\n",
    "\n",
    "    for item in rated_items_testset:\n",
    "        predicted_ratings.append(get_predicted_rating(item, username, distance_matrix, nearest_neighbors_model))\n",
    "        actual_rating = actual_ratings_test_set[username][item]\n",
    "        actual_ratings.append(actual_rating)\n",
    "    \n",
    "    mae = mean_absolute_error(actual_ratings, predicted_ratings)\n",
    "    return mae"
   ]
  },
  {
   "cell_type": "code",
   "execution_count": 191,
   "metadata": {},
   "outputs": [],
   "source": [
    "def get_user_sample(random_seed, size):\n",
    "    sample = set()\n",
    "    num_users, num_items = user_item_matrix.shape\n",
    "    np.random.seed(random_seed)\n",
    "    while len(sample) < 1000:\n",
    "        random_user_index = np.random.randint(0, num_users)\n",
    "        random_user = user_item_matrix.index[random_user_index]\n",
    "        sample.add(random_user)\n",
    "    return sample\n",
    "    "
   ]
  },
  {
   "cell_type": "code",
   "execution_count": 192,
   "metadata": {},
   "outputs": [],
   "source": [
    "def run_mean_absolute_error_calculation(users, \n",
    "                                        nearest_neighbors_model):\n",
    "    results = []\n",
    "    num_users, num_items = user_item_matrix.shape\n",
    "    for user in users:\n",
    "        mae = calculate_mean_absolute_error(\n",
    "            user, distance_matrix, nearest_neighbors_model)\n",
    "        results.append(mae)\n",
    "    return np.sum(results) / len(users)\n"
   ]
  },
  {
   "cell_type": "code",
   "execution_count": 109,
   "metadata": {},
   "outputs": [
    {
     "data": {
      "text/html": [
       "<style>#sk-container-id-3 {color: black;}#sk-container-id-3 pre{padding: 0;}#sk-container-id-3 div.sk-toggleable {background-color: white;}#sk-container-id-3 label.sk-toggleable__label {cursor: pointer;display: block;width: 100%;margin-bottom: 0;padding: 0.3em;box-sizing: border-box;text-align: center;}#sk-container-id-3 label.sk-toggleable__label-arrow:before {content: \"▸\";float: left;margin-right: 0.25em;color: #696969;}#sk-container-id-3 label.sk-toggleable__label-arrow:hover:before {color: black;}#sk-container-id-3 div.sk-estimator:hover label.sk-toggleable__label-arrow:before {color: black;}#sk-container-id-3 div.sk-toggleable__content {max-height: 0;max-width: 0;overflow: hidden;text-align: left;background-color: #f0f8ff;}#sk-container-id-3 div.sk-toggleable__content pre {margin: 0.2em;color: black;border-radius: 0.25em;background-color: #f0f8ff;}#sk-container-id-3 input.sk-toggleable__control:checked~div.sk-toggleable__content {max-height: 200px;max-width: 100%;overflow: auto;}#sk-container-id-3 input.sk-toggleable__control:checked~label.sk-toggleable__label-arrow:before {content: \"▾\";}#sk-container-id-3 div.sk-estimator input.sk-toggleable__control:checked~label.sk-toggleable__label {background-color: #d4ebff;}#sk-container-id-3 div.sk-label input.sk-toggleable__control:checked~label.sk-toggleable__label {background-color: #d4ebff;}#sk-container-id-3 input.sk-hidden--visually {border: 0;clip: rect(1px 1px 1px 1px);clip: rect(1px, 1px, 1px, 1px);height: 1px;margin: -1px;overflow: hidden;padding: 0;position: absolute;width: 1px;}#sk-container-id-3 div.sk-estimator {font-family: monospace;background-color: #f0f8ff;border: 1px dotted black;border-radius: 0.25em;box-sizing: border-box;margin-bottom: 0.5em;}#sk-container-id-3 div.sk-estimator:hover {background-color: #d4ebff;}#sk-container-id-3 div.sk-parallel-item::after {content: \"\";width: 100%;border-bottom: 1px solid gray;flex-grow: 1;}#sk-container-id-3 div.sk-label:hover label.sk-toggleable__label {background-color: #d4ebff;}#sk-container-id-3 div.sk-serial::before {content: \"\";position: absolute;border-left: 1px solid gray;box-sizing: border-box;top: 0;bottom: 0;left: 50%;z-index: 0;}#sk-container-id-3 div.sk-serial {display: flex;flex-direction: column;align-items: center;background-color: white;padding-right: 0.2em;padding-left: 0.2em;position: relative;}#sk-container-id-3 div.sk-item {position: relative;z-index: 1;}#sk-container-id-3 div.sk-parallel {display: flex;align-items: stretch;justify-content: center;background-color: white;position: relative;}#sk-container-id-3 div.sk-item::before, #sk-container-id-3 div.sk-parallel-item::before {content: \"\";position: absolute;border-left: 1px solid gray;box-sizing: border-box;top: 0;bottom: 0;left: 50%;z-index: -1;}#sk-container-id-3 div.sk-parallel-item {display: flex;flex-direction: column;z-index: 1;position: relative;background-color: white;}#sk-container-id-3 div.sk-parallel-item:first-child::after {align-self: flex-end;width: 50%;}#sk-container-id-3 div.sk-parallel-item:last-child::after {align-self: flex-start;width: 50%;}#sk-container-id-3 div.sk-parallel-item:only-child::after {width: 0;}#sk-container-id-3 div.sk-dashed-wrapped {border: 1px dashed gray;margin: 0 0.4em 0.5em 0.4em;box-sizing: border-box;padding-bottom: 0.4em;background-color: white;}#sk-container-id-3 div.sk-label label {font-family: monospace;font-weight: bold;display: inline-block;line-height: 1.2em;}#sk-container-id-3 div.sk-label-container {text-align: center;}#sk-container-id-3 div.sk-container {/* jupyter's `normalize.less` sets `[hidden] { display: none; }` but bootstrap.min.css set `[hidden] { display: none !important; }` so we also need the `!important` here to be able to override the default hidden behavior on the sphinx rendered scikit-learn.org. See: https://github.com/scikit-learn/scikit-learn/issues/21755 */display: inline-block !important;position: relative;}#sk-container-id-3 div.sk-text-repr-fallback {display: none;}</style><div id=\"sk-container-id-3\" class=\"sk-top-container\"><div class=\"sk-text-repr-fallback\"><pre>NearestNeighbors(metric=&#x27;precomputed&#x27;)</pre><b>In a Jupyter environment, please rerun this cell to show the HTML representation or trust the notebook. <br />On GitHub, the HTML representation is unable to render, please try loading this page with nbviewer.org.</b></div><div class=\"sk-container\" hidden><div class=\"sk-item\"><div class=\"sk-estimator sk-toggleable\"><input class=\"sk-toggleable__control sk-hidden--visually\" id=\"sk-estimator-id-3\" type=\"checkbox\" checked><label for=\"sk-estimator-id-3\" class=\"sk-toggleable__label sk-toggleable__label-arrow\">NearestNeighbors</label><div class=\"sk-toggleable__content\"><pre>NearestNeighbors(metric=&#x27;precomputed&#x27;)</pre></div></div></div></div></div>"
      ],
      "text/plain": [
       "NearestNeighbors(metric='precomputed')"
      ]
     },
     "execution_count": 109,
     "metadata": {},
     "output_type": "execute_result"
    }
   ],
   "source": [
    "# Create a NearestNeighbors object\n",
    "nearest_neighbors_model = NearestNeighbors(n_neighbors=5, metric='precomputed')\n",
    "\n",
    "# Fit the model using the item-item similarity matrix\n",
    "nearest_neighbors_model.fit(distance_matrix.values)"
   ]
  },
  {
   "cell_type": "code",
   "execution_count": 104,
   "metadata": {},
   "outputs": [
    {
     "name": "stdout",
     "output_type": "stream",
     "text": [
      "Mean absolute error with k =  and num_users = 1000 : 1.0217391304347827\n"
     ]
    }
   ],
   "source": [
    "mae_k5 = run_mean_absolute_error_calculation(user_sample, nearest_neighbors_model)\n"
   ]
  },
  {
   "cell_type": "code",
   "execution_count": 115,
   "metadata": {},
   "outputs": [
    {
     "data": {
      "text/html": [
       "<style>#sk-container-id-5 {color: black;}#sk-container-id-5 pre{padding: 0;}#sk-container-id-5 div.sk-toggleable {background-color: white;}#sk-container-id-5 label.sk-toggleable__label {cursor: pointer;display: block;width: 100%;margin-bottom: 0;padding: 0.3em;box-sizing: border-box;text-align: center;}#sk-container-id-5 label.sk-toggleable__label-arrow:before {content: \"▸\";float: left;margin-right: 0.25em;color: #696969;}#sk-container-id-5 label.sk-toggleable__label-arrow:hover:before {color: black;}#sk-container-id-5 div.sk-estimator:hover label.sk-toggleable__label-arrow:before {color: black;}#sk-container-id-5 div.sk-toggleable__content {max-height: 0;max-width: 0;overflow: hidden;text-align: left;background-color: #f0f8ff;}#sk-container-id-5 div.sk-toggleable__content pre {margin: 0.2em;color: black;border-radius: 0.25em;background-color: #f0f8ff;}#sk-container-id-5 input.sk-toggleable__control:checked~div.sk-toggleable__content {max-height: 200px;max-width: 100%;overflow: auto;}#sk-container-id-5 input.sk-toggleable__control:checked~label.sk-toggleable__label-arrow:before {content: \"▾\";}#sk-container-id-5 div.sk-estimator input.sk-toggleable__control:checked~label.sk-toggleable__label {background-color: #d4ebff;}#sk-container-id-5 div.sk-label input.sk-toggleable__control:checked~label.sk-toggleable__label {background-color: #d4ebff;}#sk-container-id-5 input.sk-hidden--visually {border: 0;clip: rect(1px 1px 1px 1px);clip: rect(1px, 1px, 1px, 1px);height: 1px;margin: -1px;overflow: hidden;padding: 0;position: absolute;width: 1px;}#sk-container-id-5 div.sk-estimator {font-family: monospace;background-color: #f0f8ff;border: 1px dotted black;border-radius: 0.25em;box-sizing: border-box;margin-bottom: 0.5em;}#sk-container-id-5 div.sk-estimator:hover {background-color: #d4ebff;}#sk-container-id-5 div.sk-parallel-item::after {content: \"\";width: 100%;border-bottom: 1px solid gray;flex-grow: 1;}#sk-container-id-5 div.sk-label:hover label.sk-toggleable__label {background-color: #d4ebff;}#sk-container-id-5 div.sk-serial::before {content: \"\";position: absolute;border-left: 1px solid gray;box-sizing: border-box;top: 0;bottom: 0;left: 50%;z-index: 0;}#sk-container-id-5 div.sk-serial {display: flex;flex-direction: column;align-items: center;background-color: white;padding-right: 0.2em;padding-left: 0.2em;position: relative;}#sk-container-id-5 div.sk-item {position: relative;z-index: 1;}#sk-container-id-5 div.sk-parallel {display: flex;align-items: stretch;justify-content: center;background-color: white;position: relative;}#sk-container-id-5 div.sk-item::before, #sk-container-id-5 div.sk-parallel-item::before {content: \"\";position: absolute;border-left: 1px solid gray;box-sizing: border-box;top: 0;bottom: 0;left: 50%;z-index: -1;}#sk-container-id-5 div.sk-parallel-item {display: flex;flex-direction: column;z-index: 1;position: relative;background-color: white;}#sk-container-id-5 div.sk-parallel-item:first-child::after {align-self: flex-end;width: 50%;}#sk-container-id-5 div.sk-parallel-item:last-child::after {align-self: flex-start;width: 50%;}#sk-container-id-5 div.sk-parallel-item:only-child::after {width: 0;}#sk-container-id-5 div.sk-dashed-wrapped {border: 1px dashed gray;margin: 0 0.4em 0.5em 0.4em;box-sizing: border-box;padding-bottom: 0.4em;background-color: white;}#sk-container-id-5 div.sk-label label {font-family: monospace;font-weight: bold;display: inline-block;line-height: 1.2em;}#sk-container-id-5 div.sk-label-container {text-align: center;}#sk-container-id-5 div.sk-container {/* jupyter's `normalize.less` sets `[hidden] { display: none; }` but bootstrap.min.css set `[hidden] { display: none !important; }` so we also need the `!important` here to be able to override the default hidden behavior on the sphinx rendered scikit-learn.org. See: https://github.com/scikit-learn/scikit-learn/issues/21755 */display: inline-block !important;position: relative;}#sk-container-id-5 div.sk-text-repr-fallback {display: none;}</style><div id=\"sk-container-id-5\" class=\"sk-top-container\"><div class=\"sk-text-repr-fallback\"><pre>NearestNeighbors(metric=&#x27;precomputed&#x27;)</pre><b>In a Jupyter environment, please rerun this cell to show the HTML representation or trust the notebook. <br />On GitHub, the HTML representation is unable to render, please try loading this page with nbviewer.org.</b></div><div class=\"sk-container\" hidden><div class=\"sk-item\"><div class=\"sk-estimator sk-toggleable\"><input class=\"sk-toggleable__control sk-hidden--visually\" id=\"sk-estimator-id-5\" type=\"checkbox\" checked><label for=\"sk-estimator-id-5\" class=\"sk-toggleable__label sk-toggleable__label-arrow\">NearestNeighbors</label><div class=\"sk-toggleable__content\"><pre>NearestNeighbors(metric=&#x27;precomputed&#x27;)</pre></div></div></div></div></div>"
      ],
      "text/plain": [
       "NearestNeighbors(metric='precomputed')"
      ]
     },
     "execution_count": 115,
     "metadata": {},
     "output_type": "execute_result"
    }
   ],
   "source": [
    "nearest_neighbors_model = NearestNeighbors(n_neighbors=5, metric='precomputed')\n",
    "nearest_neighbors_model.fit(distance_matrix.values)\n",
    "mae_k5 = run_mean_absolute_error_calculation(user_sample, nearest_neighbors_model)"
   ]
  },
  {
   "cell_type": "code",
   "execution_count": 193,
   "metadata": {},
   "outputs": [
    {
     "name": "stdout",
     "output_type": "stream",
     "text": [
      "Mean absolute error with k =  5 and num_users = 1000 : 0.9777905383722169\n",
      "Mean absolute error with k =  10 and num_users = 1000 : 0.9770682556742011\n",
      "Mean absolute error with k =  15 and num_users = 1000 : 0.9585470162481359\n",
      "Mean absolute error with k =  20 and num_users = 1000 : 0.9465300211314875\n",
      "Mean absolute error with k =  25 and num_users = 1000 : 0.9316068542121336\n",
      "Mean absolute error with k =  30 and num_users = 1000 : 0.9200437487361657\n",
      "Mean absolute error with k =  35 and num_users = 1000 : 0.907185055685127\n",
      "Mean absolute error with k =  40 and num_users = 1000 : 0.8963818168423602\n",
      "Mean absolute error with k =  45 and num_users = 1000 : 0.8882566606315563\n",
      "Mean absolute error with k =  50 and num_users = 1000 : 0.8810210394711518\n",
      "Mean absolute error with k =  100 and num_users = 1000 : 0.8487840841498377\n"
     ]
    }
   ],
   "source": [
    "user_sample = get_user_sample(0, 1000)\n",
    "k_values = [5,10,15,20,25,30,35,40,45,50,100]\n",
    "results_mae_user_sample_0 = {}\n",
    "for k in k_values:\n",
    "    nearest_neighbors_model = NearestNeighbors(n_neighbors=k, \n",
    "                                               metric='precomputed')\n",
    "    nearest_neighbors_model.fit(distance_matrix.values)\n",
    "    result = run_mean_absolute_error_calculation(\n",
    "        user_sample, nearest_neighbors_model)\n",
    "    print(\"Mean absolute error with k = \",k ,\"and num_users =\", \n",
    "          len(user_sample),\":\", result)\n",
    "    results_mae_user_sample_0[k] = result"
   ]
  },
  {
   "cell_type": "code",
   "execution_count": 194,
   "metadata": {},
   "outputs": [
    {
     "name": "stdout",
     "output_type": "stream",
     "text": [
      "Mean absolute error with k =  5 and num_users = 1000 : 0.9675866569056669\n",
      "Mean absolute error with k =  10 and num_users = 1000 : 0.9743929964162094\n",
      "Mean absolute error with k =  15 and num_users = 1000 : 0.9619066777752342\n",
      "Mean absolute error with k =  20 and num_users = 1000 : 0.9488920576635632\n",
      "Mean absolute error with k =  25 and num_users = 1000 : 0.9319972912142853\n",
      "Mean absolute error with k =  30 and num_users = 1000 : 0.9196699332905723\n",
      "Mean absolute error with k =  35 and num_users = 1000 : 0.9079269181533078\n",
      "Mean absolute error with k =  40 and num_users = 1000 : 0.8987901084569305\n",
      "Mean absolute error with k =  45 and num_users = 1000 : 0.8907687632699456\n",
      "Mean absolute error with k =  50 and num_users = 1000 : 0.8829409303354019\n",
      "Mean absolute error with k =  100 and num_users = 1000 : 0.8477911415722911\n"
     ]
    }
   ],
   "source": [
    "user_sample = get_user_sample(1, 1000)\n",
    "k_values = [5,10,15,20,25,30,35,40,45,50,100]\n",
    "results_mae_user_sample_1 = {}\n",
    "for k in k_values:\n",
    "    nearest_neighbors_model = NearestNeighbors(n_neighbors=k, metric='precomputed')\n",
    "    nearest_neighbors_model.fit(distance_matrix.values)\n",
    "    result = run_mean_absolute_error_calculation(\n",
    "        user_sample, nearest_neighbors_model)\n",
    "    print(\"Mean absolute error with k = \",k ,\"and num_users =\", \n",
    "          len(user_sample),\":\", result)\n",
    "    results_mae_user_sample_1[k] = result"
   ]
  },
  {
   "cell_type": "code",
   "execution_count": 240,
   "metadata": {},
   "outputs": [
    {
     "data": {
      "text/plain": [
       "<function matplotlib.pyplot.show(close=None, block=None)>"
      ]
     },
     "execution_count": 240,
     "metadata": {},
     "output_type": "execute_result"
    },
    {
     "data": {
      "image/png": "[encoded data removed]",
      "text/plain": [
       "<Figure size 640x480 with 1 Axes>"
      ]
     },
     "metadata": {},
     "output_type": "display_data"
    }
   ],
   "source": [
    "import matplotlib.pyplot as plt\n",
    "keys = list(results_mae_user_sample_1.keys())\n",
    "values = list(results_mae_user_sample_1.values())\n",
    "\n",
    "plt.plot( keys,values, marker= 'o')\n",
    "plt.xlabel(\"k-value\")\n",
    "plt.ylabel(\"MAE\")\n",
    "plt.title(\"MAE experiment 4\")\n",
    "plt.gca().invert_yaxis()\n",
    "plt.yticks(values)\n",
    "plt.xticks(keys)\n",
    "\n",
    "plt.show"
   ]
  },
  {
   "cell_type": "code",
   "execution_count": 139,
   "metadata": {},
   "outputs": [],
   "source": [
    "precision_k5, recall_k5 = run_precision_recall_calculation(user_sample, nearest_neighbors_model, 10)"
   ]
  },
  {
   "cell_type": "code",
   "execution_count": 141,
   "metadata": {},
   "outputs": [
    {
     "data": {
      "text/plain": [
       "0.0782"
      ]
     },
     "execution_count": 141,
     "metadata": {},
     "output_type": "execute_result"
    }
   ],
   "source": [
    "precision_k5"
   ]
  },
  {
   "cell_type": "code",
   "execution_count": 142,
   "metadata": {},
   "outputs": [
    {
     "data": {
      "text/plain": [
       "0.030555537524588765"
      ]
     },
     "execution_count": 142,
     "metadata": {},
     "output_type": "execute_result"
    }
   ],
   "source": [
    "recall_k5"
   ]
  },
  {
   "cell_type": "code",
   "execution_count": null,
   "metadata": {},
   "outputs": [],
   "source": [
    "# update model\n",
    "# mae_k10 = run_mean_absolute_error_calculation(10, user_sample)"
   ]
  },
  {
   "cell_type": "code",
   "execution_count": 84,
   "metadata": {},
   "outputs": [
    {
     "data": {
      "text/plain": [
       "1.0239391745226554"
      ]
     },
     "execution_count": 84,
     "metadata": {},
     "output_type": "execute_result"
    }
   ],
   "source": [
    "test_mae = calculate_mean_absolute_error(\"-=Yod@=-\", 20, distance_matrix)\n",
    "test_mae"
   ]
  },
  {
   "cell_type": "code",
   "execution_count": null,
   "metadata": {},
   "outputs": [],
   "source": [
    "recommend_items(distance_matrix, \"Tom Vasel\", 10, \n",
    "                nearest_neighbors_model)"
   ]
  },
  {
   "cell_type": "code",
   "execution_count": 116,
   "metadata": {},
   "outputs": [
    {
     "data": {
      "text/plain": [
       "[132531,\n",
       " 189932,\n",
       " 192135,\n",
       " 162886,\n",
       " 274637,\n",
       " 161936,\n",
       " 270844,\n",
       " 268864,\n",
       " 266507,\n",
       " 262712]"
      ]
     },
     "execution_count": 116,
     "metadata": {},
     "output_type": "execute_result"
    }
   ],
   "source": [
    "test_recommended_items, test_rec_df = recommend_items(distance_matrix, \"-=Yod@=-\", 10, nearest_neighbors_model)\n",
    "test_recommended_items"
   ]
  },
  {
   "cell_type": "code",
   "execution_count": 127,
   "metadata": {},
   "outputs": [
    {
     "data": {
      "text/plain": [
       "[132531,\n",
       " 189932,\n",
       " 192135,\n",
       " 162886,\n",
       " 274637,\n",
       " 161936,\n",
       " 270844,\n",
       " 268864,\n",
       " 266507,\n",
       " 262712]"
      ]
     },
     "execution_count": 127,
     "metadata": {},
     "output_type": "execute_result"
    }
   ],
   "source": [
    "test_recommended_items, test_rec_df = recommend_items(distance_matrix, \"-=Yod@=-\", 10, nearest_neighbors_model)\n",
    "test_recommended_items"
   ]
  },
  {
   "cell_type": "code",
   "execution_count": 108,
   "metadata": {},
   "outputs": [
    {
     "data": {
      "text/plain": [
       "[192135,\n",
       " 166669,\n",
       " 204472,\n",
       " 159675,\n",
       " 229853,\n",
       " 271324,\n",
       " 176734,\n",
       " 241451,\n",
       " 193738,\n",
       " 177736,\n",
       " 28720,\n",
       " 256960,\n",
       " 274637,\n",
       " 191189,\n",
       " 119506,\n",
       " 276025,\n",
       " 251247,\n",
       " 249259,\n",
       " 296151,\n",
       " 218417,\n",
       " 9216,\n",
       " 224710,\n",
       " 266810,\n",
       " 317985,\n",
       " 189932,\n",
       " 316554,\n",
       " 314040,\n",
       " 312484,\n",
       " 224517,\n",
       " 308765]"
      ]
     },
     "execution_count": 108,
     "metadata": {},
     "output_type": "execute_result"
    }
   ],
   "source": [
    "test_recommended_items, test_rec_df = recommend_items(distance_matrix, \"-=Yod@=-\", 30, nearest_neighbors_model)\n",
    "test_recommended_items"
   ]
  },
  {
   "cell_type": "code",
   "execution_count": 74,
   "metadata": {},
   "outputs": [
    {
     "data": {
      "text/html": [
       "<div>\n",
       "<style scoped>\n",
       "    .dataframe tbody tr th:only-of-type {\n",
       "        vertical-align: middle;\n",
       "    }\n",
       "\n",
       "    .dataframe tbody tr th {\n",
       "        vertical-align: top;\n",
       "    }\n",
       "\n",
       "    .dataframe thead th {\n",
       "        text-align: right;\n",
       "    }\n",
       "</style>\n",
       "<table border=\"1\" class=\"dataframe\">\n",
       "  <thead>\n",
       "    <tr style=\"text-align: right;\">\n",
       "      <th></th>\n",
       "      <th>BGGId</th>\n",
       "      <th>Rating</th>\n",
       "      <th>Rating_avg</th>\n",
       "      <th>Adjusted_Rating</th>\n",
       "      <th>Username</th>\n",
       "      <th>Name</th>\n",
       "    </tr>\n",
       "  </thead>\n",
       "  <tbody>\n",
       "    <tr>\n",
       "      <th>0</th>\n",
       "      <td>2381</td>\n",
       "      <td>7.5</td>\n",
       "      <td>7.287829</td>\n",
       "      <td>0.212171</td>\n",
       "      <td>-=Yod@=-</td>\n",
       "      <td>Scattergories</td>\n",
       "    </tr>\n",
       "    <tr>\n",
       "      <th>1</th>\n",
       "      <td>257501</td>\n",
       "      <td>8.0</td>\n",
       "      <td>7.287829</td>\n",
       "      <td>0.712171</td>\n",
       "      <td>-=Yod@=-</td>\n",
       "      <td>KeyForge: Call of the Archons</td>\n",
       "    </tr>\n",
       "    <tr>\n",
       "      <th>2</th>\n",
       "      <td>11</td>\n",
       "      <td>7.0</td>\n",
       "      <td>7.287829</td>\n",
       "      <td>-0.287829</td>\n",
       "      <td>-=Yod@=-</td>\n",
       "      <td>Bohnanza</td>\n",
       "    </tr>\n",
       "    <tr>\n",
       "      <th>3</th>\n",
       "      <td>139030</td>\n",
       "      <td>7.5</td>\n",
       "      <td>7.287829</td>\n",
       "      <td>0.212171</td>\n",
       "      <td>-=Yod@=-</td>\n",
       "      <td>Mascarade</td>\n",
       "    </tr>\n",
       "    <tr>\n",
       "      <th>4</th>\n",
       "      <td>24480</td>\n",
       "      <td>7.0</td>\n",
       "      <td>7.287829</td>\n",
       "      <td>-0.287829</td>\n",
       "      <td>-=Yod@=-</td>\n",
       "      <td>The Pillars of the Earth</td>\n",
       "    </tr>\n",
       "    <tr>\n",
       "      <th>...</th>\n",
       "      <td>...</td>\n",
       "      <td>...</td>\n",
       "      <td>...</td>\n",
       "      <td>...</td>\n",
       "      <td>...</td>\n",
       "      <td>...</td>\n",
       "    </tr>\n",
       "    <tr>\n",
       "      <th>1204355</th>\n",
       "      <td>161533</td>\n",
       "      <td>8.0</td>\n",
       "      <td>7.393506</td>\n",
       "      <td>0.606494</td>\n",
       "      <td>zzzzzane</td>\n",
       "      <td>Lisboa</td>\n",
       "    </tr>\n",
       "    <tr>\n",
       "      <th>1204356</th>\n",
       "      <td>150</td>\n",
       "      <td>6.0</td>\n",
       "      <td>7.393506</td>\n",
       "      <td>-1.393506</td>\n",
       "      <td>zzzzzane</td>\n",
       "      <td>PitchCar</td>\n",
       "    </tr>\n",
       "    <tr>\n",
       "      <th>1204357</th>\n",
       "      <td>320</td>\n",
       "      <td>8.0</td>\n",
       "      <td>7.393506</td>\n",
       "      <td>0.606494</td>\n",
       "      <td>zzzzzane</td>\n",
       "      <td>Scrabble</td>\n",
       "    </tr>\n",
       "    <tr>\n",
       "      <th>1204358</th>\n",
       "      <td>521</td>\n",
       "      <td>10.0</td>\n",
       "      <td>7.393506</td>\n",
       "      <td>2.606494</td>\n",
       "      <td>zzzzzane</td>\n",
       "      <td>Crokinole</td>\n",
       "    </tr>\n",
       "    <tr>\n",
       "      <th>1204359</th>\n",
       "      <td>90419</td>\n",
       "      <td>10.0</td>\n",
       "      <td>7.393506</td>\n",
       "      <td>2.606494</td>\n",
       "      <td>zzzzzane</td>\n",
       "      <td>Airlines Europe</td>\n",
       "    </tr>\n",
       "  </tbody>\n",
       "</table>\n",
       "<p>1065657 rows × 6 columns</p>\n",
       "</div>"
      ],
      "text/plain": [
       "          BGGId  Rating  Rating_avg  Adjusted_Rating  Username  \\\n",
       "0          2381     7.5    7.287829         0.212171  -=Yod@=-   \n",
       "1        257501     8.0    7.287829         0.712171  -=Yod@=-   \n",
       "2            11     7.0    7.287829        -0.287829  -=Yod@=-   \n",
       "3        139030     7.5    7.287829         0.212171  -=Yod@=-   \n",
       "4         24480     7.0    7.287829        -0.287829  -=Yod@=-   \n",
       "...         ...     ...         ...              ...       ...   \n",
       "1204355  161533     8.0    7.393506         0.606494  zzzzzane   \n",
       "1204356     150     6.0    7.393506        -1.393506  zzzzzane   \n",
       "1204357     320     8.0    7.393506         0.606494  zzzzzane   \n",
       "1204358     521    10.0    7.393506         2.606494  zzzzzane   \n",
       "1204359   90419    10.0    7.393506         2.606494  zzzzzane   \n",
       "\n",
       "                                  Name  \n",
       "0                        Scattergories  \n",
       "1        KeyForge: Call of the Archons  \n",
       "2                             Bohnanza  \n",
       "3                            Mascarade  \n",
       "4             The Pillars of the Earth  \n",
       "...                                ...  \n",
       "1204355                         Lisboa  \n",
       "1204356                       PitchCar  \n",
       "1204357                       Scrabble  \n",
       "1204358                      Crokinole  \n",
       "1204359                Airlines Europe  \n",
       "\n",
       "[1065657 rows x 6 columns]"
      ]
     },
     "execution_count": 74,
     "metadata": {},
     "output_type": "execute_result"
    }
   ],
   "source": [
    "relevant_items"
   ]
  },
  {
   "cell_type": "code",
   "execution_count": 114,
   "metadata": {},
   "outputs": [
    {
     "name": "stdout",
     "output_type": "stream",
     "text": [
      "9625\n",
      "25021\n",
      "188\n",
      "79828\n",
      "54138\n",
      "39351\n",
      "237182\n",
      "84419\n",
      "163068\n",
      "91\n",
      "antal true positives:  10\n"
     ]
    },
    {
     "data": {
      "text/plain": [
       "1.0"
      ]
     },
     "execution_count": 114,
     "metadata": {},
     "output_type": "execute_result"
    }
   ],
   "source": [
    "# Username\n",
    "# leffe dubbel            1081\n",
    "# Hessu68                 1020\n",
    "# oldgoat3769967          1002\n",
    "# TomVasel                 996\n",
    "# Pandorzecza              953\n",
    "#                         ... \n",
    "# RoN_Rancor               100\n",
    "# generationX              100\n",
    "# Nathan G                 100\n",
    "# starvinmartian_games     100\n",
    "# chsbellboy               100\n",
    "\n",
    "#users: -Johnny-\t-mIDE-\t-toni-\t...Hammer\t\n",
    "test_recommended_items_2, test_recommended_items_2_df = recommend_items(distance_matrix, \"leffe dubbel\", 10, nearest_neighbors_model)\n",
    "test_relevant_items_2 = relevant_items[\"leffe dubbel\"]\n",
    "test_precision_2 = calculate_precision(test_recommended_items_2, test_relevant_items_2)\n",
    "test_precision_2"
   ]
  },
  {
   "cell_type": "code",
   "execution_count": 77,
   "metadata": {},
   "outputs": [
    {
     "data": {
      "text/plain": [
       "154"
      ]
     },
     "execution_count": 77,
     "metadata": {},
     "output_type": "execute_result"
    }
   ],
   "source": [
    "len(test_relevant_items_2)"
   ]
  },
  {
   "cell_type": "code",
   "execution_count": 78,
   "metadata": {},
   "outputs": [
    {
     "data": {
      "text/html": [
       "<div>\n",
       "<style scoped>\n",
       "    .dataframe tbody tr th:only-of-type {\n",
       "        vertical-align: middle;\n",
       "    }\n",
       "\n",
       "    .dataframe tbody tr th {\n",
       "        vertical-align: top;\n",
       "    }\n",
       "\n",
       "    .dataframe thead th {\n",
       "        text-align: right;\n",
       "    }\n",
       "</style>\n",
       "<table border=\"1\" class=\"dataframe\">\n",
       "  <thead>\n",
       "    <tr style=\"text-align: right;\">\n",
       "      <th></th>\n",
       "      <th>Predicted rating</th>\n",
       "    </tr>\n",
       "    <tr>\n",
       "      <th>BGGId</th>\n",
       "      <th></th>\n",
       "    </tr>\n",
       "  </thead>\n",
       "  <tbody>\n",
       "    <tr>\n",
       "      <th>9625</th>\n",
       "      <td>8.072541</td>\n",
       "    </tr>\n",
       "    <tr>\n",
       "      <th>25021</th>\n",
       "      <td>8.058141</td>\n",
       "    </tr>\n",
       "    <tr>\n",
       "      <th>188</th>\n",
       "      <td>8.018426</td>\n",
       "    </tr>\n",
       "    <tr>\n",
       "      <th>79828</th>\n",
       "      <td>8.002364</td>\n",
       "    </tr>\n",
       "    <tr>\n",
       "      <th>54138</th>\n",
       "      <td>7.998041</td>\n",
       "    </tr>\n",
       "    <tr>\n",
       "      <th>39351</th>\n",
       "      <td>7.946282</td>\n",
       "    </tr>\n",
       "    <tr>\n",
       "      <th>237182</th>\n",
       "      <td>7.941399</td>\n",
       "    </tr>\n",
       "    <tr>\n",
       "      <th>84419</th>\n",
       "      <td>7.912132</td>\n",
       "    </tr>\n",
       "    <tr>\n",
       "      <th>163068</th>\n",
       "      <td>7.892771</td>\n",
       "    </tr>\n",
       "    <tr>\n",
       "      <th>91</th>\n",
       "      <td>7.877353</td>\n",
       "    </tr>\n",
       "  </tbody>\n",
       "</table>\n",
       "</div>"
      ],
      "text/plain": [
       "        Predicted rating\n",
       "BGGId                   \n",
       "9625            8.072541\n",
       "25021           8.058141\n",
       "188             8.018426\n",
       "79828           8.002364\n",
       "54138           7.998041\n",
       "39351           7.946282\n",
       "237182          7.941399\n",
       "84419           7.912132\n",
       "163068          7.892771\n",
       "91              7.877353"
      ]
     },
     "execution_count": 78,
     "metadata": {},
     "output_type": "execute_result"
    }
   ],
   "source": [
    "test_recommended_items_2_df"
   ]
  },
  {
   "cell_type": "markdown",
   "metadata": {},
   "source": [
    "Nedan skriver vi funktion som visar resultat av rekomendation i form av en sorts lista baserat på recommender funktionen"
   ]
  },
  {
   "cell_type": "code",
   "execution_count": null,
   "metadata": {},
   "outputs": [],
   "source": []
  },
  {
   "cell_type": "markdown",
   "metadata": {},
   "source": [
    "Nedan här skriver vi evalueringsfunktioner av modellen och utskrift "
   ]
  },
  {
   "cell_type": "code",
   "execution_count": null,
   "metadata": {},
   "outputs": [],
   "source": []
  },
  {
   "cell_type": "code",
   "execution_count": null,
   "metadata": {},
   "outputs": [],
   "source": []
  }
 ],
 "metadata": {
  "kernelspec": {
   "display_name": "Python 3",
   "language": "python",
   "name": "python3"
  },
  "language_info": {
   "codemirror_mode": {
    "name": "ipython",
    "version": 3
   },
   "file_extension": ".py",
   "mimetype": "text/x-python",
   "name": "python",
   "nbconvert_exporter": "python",
   "pygments_lexer": "ipython3",
   "version": "3.11.4"
  }
 },
 "nbformat": 4,
 "nbformat_minor": 2
}
